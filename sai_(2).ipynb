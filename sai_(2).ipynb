{
  "cells": [
    {
      "cell_type": "markdown",
      "metadata": {
        "id": "view-in-github",
        "colab_type": "text"
      },
      "source": [
        "<a href=\"https://colab.research.google.com/github/saikiranreddymote/INF0_5731/blob/main/sai_(2).ipynb\" target=\"_parent\"><img src=\"https://colab.research.google.com/assets/colab-badge.svg\" alt=\"Open In Colab\"/></a>"
      ]
    },
    {
      "cell_type": "markdown",
      "metadata": {
        "id": "0PTzoEewtUXL"
      },
      "source": [
        "## The second In-class-exercise (09/22/2022, 40 points in total)"
      ]
    },
    {
      "cell_type": "markdown",
      "metadata": {
        "id": "pp8kX-N7tUXM"
      },
      "source": [
        "The purpose of this exercise is to understand users' information needs, then collect data from different sources for analysis."
      ]
    },
    {
      "cell_type": "markdown",
      "metadata": {
        "id": "HUSs35_itUXM"
      },
      "source": [
        "Question 1 (10 points): Describe an interesting research question (or practical question) you have in mind, what kind of data should be collected to answer the question(s)? How many data needed for the analysis? The detail steps for collecting and save the data. "
      ]
    },
    {
      "cell_type": "code",
      "execution_count": 1,
      "metadata": {
        "colab": {
          "base_uri": "https://localhost:8080/",
          "height": 88
        },
        "id": "5CiNjjzOtUXN",
        "outputId": "945a4305-f012-45f0-f71a-1a5a0af5898c"
      },
      "outputs": [
        {
          "output_type": "execute_result",
          "data": {
            "text/plain": [
              "\"\\nPlease write you answer here:\\nTo ascertain at what worth the item is monetary, I have obtained the information from amazon site on kids pants\\n\\nIt is important to collect data about the item's price in order to reach a conclusion.\\n\\nI've looked through 20 pages of results on Amazon for children's trousers.\\n\\nIs taking steps toward acting out the model:\\n\\nTo get this data, we use a web scraping process.\\nThe Beautiful soap library is used to parse the data.\\nIt goes through each page of the site's results and prepares the word reference based on the parsed data.\\n\\n\\n\\n\\n\""
            ],
            "application/vnd.google.colaboratory.intrinsic+json": {
              "type": "string"
            }
          },
          "metadata": {},
          "execution_count": 1
        }
      ],
      "source": [
        "# Your answer here (no code for this question, write down your answer as detail as possible for the above questions):\n",
        "\n",
        "'''\n",
        "Please write you answer here:\n",
        "To ascertain at what worth the item is monetary, I have obtained the information from amazon site on kids pants\n",
        "\n",
        "It is important to collect data about the item's price in order to reach a conclusion.\n",
        "\n",
        "I've looked through 20 pages of results on Amazon for children's trousers.\n",
        "\n",
        "Is taking steps toward acting out the model:\n",
        "\n",
        "To get this data, we use a web scraping process.\n",
        "The Beautiful soap library is used to parse the data.\n",
        "It goes through each page of the site's results and prepares the word reference based on the parsed data.\n",
        "\n",
        "\n",
        "\n",
        "\n",
        "'''"
      ]
    },
    {
      "cell_type": "markdown",
      "metadata": {
        "id": "Q7xQJHkMtUXO"
      },
      "source": [
        "Question 2 (10 points): Write python code to collect 1000 data samples you discussed above."
      ]
    },
    {
      "cell_type": "code",
      "execution_count": null,
      "metadata": {
        "id": "YoLo8ONctUXO",
        "outputId": "a80db2c8-84bb-440b-ef3b-5662207d2f3d"
      },
      "outputs": [
        {
          "name": "stdout",
          "output_type": "stream",
          "text": [
            "    Price\n",
            "0     12.\n",
            "1     18.\n",
            "2     14.\n",
            "3     16.\n",
            "4      9.\n",
            "..    ...\n",
            "930   28.\n",
            "931   19.\n",
            "932   19.\n",
            "933   15.\n",
            "934   39.\n",
            "\n",
            "[935 rows x 1 columns]\n"
          ]
        }
      ],
      "source": [
        "# You code here (Please add comments in the code):\n",
        "\n",
        "from bs4 import BeautifulSoup\n",
        "from urllib.request import Request, urlopen\n",
        "from urllib.error import HTTPError\n",
        "import json\n",
        "import pandas as pd\n",
        "import re\n",
        "\n",
        "\n",
        "# url of the densho digital repository to scrape the data\n",
        "main_url = \"https://www.amazon.com/Boys-Pants/b/ref=sv_sl_fl_1045904?ie=UTF8&node=1045904\"\n",
        "df = pd.DataFrame()\n",
        "price_list_dict = {\"Price\": []}\n",
        "for page_num in range(1, 20):\n",
        "    page_num = page_num + 9\n",
        "    # we create the data soup of the main url page html elements.\n",
        "    link1 = Request(main_url.format(page_num), headers={'User-Agent': 'Mozilla/5.0'})\n",
        "    url1 = urlopen(link1)\n",
        "    data1 = url1.read()\n",
        "    data1_soup = BeautifulSoup(data1)\n",
        "    # print(data1_soup)\n",
        "    \n",
        "    prices = data1_soup.find_all(\"span\", {\"class\": \"a-price-whole\"})\n",
        "    for price in prices:\n",
        "        price_list_dict['Price'].append(price.text)\n",
        "\n",
        "\n",
        "df = pd.DataFrame(price_list_dict)    \n",
        "print(df)\n"
      ]
    },
    {
      "cell_type": "markdown",
      "metadata": {
        "id": "pe26lp9ptUXO"
      },
      "source": [
        "Question 3 (10 points): Write python code to collect 1000 articles from Google Scholar (https://scholar.google.com/), Microsoft Academic (https://academic.microsoft.com/home), or CiteSeerX (https://citeseerx.ist.psu.edu/index), or Semantic Scholar (https://www.semanticscholar.org/), or ACM Digital Libraries (https://dl.acm.org/) with the keyword \"information retrieval\". The articles should be published in the last 10 years (2012-2022).\n",
        "\n",
        "The following information of the article needs to be collected:\n",
        "\n",
        "(1) Title\n",
        "\n",
        "(2) Venue/journal/conference being published\n",
        "\n",
        "(3) Year\n",
        "\n",
        "(4) Authors\n",
        "\n",
        "(5) Abstract"
      ]
    },
    {
      "cell_type": "code",
      "execution_count": null,
      "metadata": {
        "id": "QFCJzYIZtUXO",
        "outputId": "bb314e71-846e-4397-8f8a-eba2383fbd6b"
      },
      "outputs": [
        {
          "name": "stdout",
          "output_type": "stream",
          "text": [
            "{\"total\": 8489294, \"offset\": 0, \"next\": 99, \"data\": [{\"paperId\": \"5f3b50c6c826ad105163b09d53e1eb498a4b3994\", \"title\": \"Introduction to Information Retrieval\", \"venue\": \"J. Assoc. Inf. Sci. Technol.\", \"year\": 2010, \"authors\": [{\"authorId\": \"1803434\", \"name\": \"R. Larson\"}]}, {\"paperId\": \"807600ef43073cd9c59d4208ee710e90cf14efa8\", \"title\": \"BEIR: A Heterogenous Benchmark for Zero-shot Evaluation of Information Retrieval Models\", \"venue\": \"NeurIPS Datasets and Benchmarks\", \"year\": 2021, \"authors\": [{\"authorId\": \"47583894\", \"name\": \"Nandan Thakur\"}, {\"authorId\": \"2959414\", \"name\": \"Nils Reimers\"}, {\"authorId\": \"1404060894\", \"name\": \"Andreas Ruckl'e\"}, {\"authorId\": \"153257123\", \"name\": \"Abhishek Srivastava\"}, {\"authorId\": \"69033154\", \"name\": \"Iryna Gurevych\"}]}, {\"paperId\": \"72c58a58ba1684dc8337c8e64e0b5dacfc94499e\", \"title\": \"Information Retrieval\", \"venue\": \"Lecture Notes in Computer Science\", \"year\": 2018, \"authors\": [{\"authorId\": \"32293755\", \"name\": \"A. Dekhtyar\"}]}, {\"paperId\": \"806c2c4327a31fded64a5d673ab82b133194c234\", \"title\": \"Introduction to information retrieval\", \"venue\": \"\", \"year\": 2008, \"authors\": [{\"authorId\": \"144783904\", \"name\": \"Christopher D. Manning\"}, {\"authorId\": \"145503401\", \"name\": \"P. Raghavan\"}, {\"authorId\": \"144418438\", \"name\": \"Hinrich Sch\\u00fctze\"}]}, {\"paperId\": \"49af3e80343eb80c61e727ae0c27541628c7c5e2\", \"title\": \"Introduction to Modern Information Retrieval\", \"venue\": \"\", \"year\": 1983, \"authors\": [{\"authorId\": \"1797808\", \"name\": \"G. Salton\"}, {\"authorId\": \"144321599\", \"name\": \"M. McGill\"}]}, {\"paperId\": \"47354d4d1915ae3d286d401005ba8a44af7d1fa5\", \"title\": \"A Deep Look into Neural Ranking Models for Information Retrieval\", \"venue\": \"Inf. Process. Manag.\", \"year\": 2019, \"authors\": [{\"authorId\": \"1777025\", \"name\": \"J. Guo\"}, {\"authorId\": \"7888704\", \"name\": \"Yixing Fan\"}, {\"authorId\": \"48537499\", \"name\": \"Liang Pang\"}, {\"authorId\": \"49576068\", \"name\": \"Liu Yang\"}, {\"authorId\": \"144922928\", \"name\": \"Qingyao Ai\"}, {\"authorId\": \"2499986\", \"name\": \"Hamed Zamani\"}, {\"authorId\": \"1748036\", \"name\": \"Chen Wu\"}, {\"authorId\": \"144456145\", \"name\": \"W. Bruce Croft\"}, {\"authorId\": \"1717004\", \"name\": \"Xueqi Cheng\"}]}, {\"paperId\": \"4e0d7944d6af1e90c322d3c87b22cbae33df4eca\", \"title\": \"Private Information Retrieval With Side Information\", \"venue\": \"IEEE Transactions on Information Theory\", \"year\": 2017, \"authors\": [{\"authorId\": \"1686542\", \"name\": \"S. Kadhe\"}, {\"authorId\": \"38743029\", \"name\": \"B. Garcia\"}, {\"authorId\": \"34512185\", \"name\": \"A. Heidarzadeh\"}, {\"authorId\": \"134711158\", \"name\": \"Salim el Rouayheb\"}, {\"authorId\": \"9039505\", \"name\": \"A. Sprintson\"}]}, {\"paperId\": \"947541d84e7588759d555702834b0fc4c709778a\", \"title\": \"The Capacity of T-Private Information Retrieval With Private Side Information\", \"venue\": \"IEEE Transactions on Information Theory\", \"year\": 2017, \"authors\": [{\"authorId\": \"2117102362\", \"name\": \"Zhen Chen\"}, {\"authorId\": \"2108504099\", \"name\": \"Zhiying Wang\"}, {\"authorId\": \"145486824\", \"name\": \"S. Jafar\"}]}, {\"paperId\": \"9f8889ae93d2da09412fa862cc5895f40d114d5f\", \"title\": \"The Capacity of Private Information Retrieval From Coded Databases\", \"venue\": \"IEEE Transactions on Information Theory\", \"year\": 2016, \"authors\": [{\"authorId\": \"1995965\", \"name\": \"Karim A. Banawan\"}, {\"authorId\": \"1744394\", \"name\": \"S. Ulukus\"}]}, {\"paperId\": \"bead8973ff87831f7ee41c5adda777f6021cdcea\", \"title\": \"IRGAN: A Minimax Game for Unifying Generative and Discriminative Information Retrieval Models\", \"venue\": \"SIGIR\", \"year\": 2017, \"authors\": [{\"authorId\": \"39055225\", \"name\": \"Jun Wang\"}, {\"authorId\": \"3469209\", \"name\": \"Lantao Yu\"}, {\"authorId\": \"2108309275\", \"name\": \"Weinan Zhang\"}, {\"authorId\": \"2087062414\", \"name\": \"Yu Gong\"}, {\"authorId\": \"50125871\", \"name\": \"Yinghui Xu\"}, {\"authorId\": \"2894465\", \"name\": \"Benyou Wang\"}, {\"authorId\": \"47243067\", \"name\": \"P. Zhang\"}, {\"authorId\": \"37510526\", \"name\": \"Dell Zhang\"}]}, {\"paperId\": \"33151c9905102c47d431f59fc9a5a7667960507a\", \"title\": \"A Language Modeling Approach to Information Retrieval\", \"venue\": \"SIGIR Forum\", \"year\": 1998, \"authors\": [{\"authorId\": \"40395378\", \"name\": \"J. Ponte\"}, {\"authorId\": \"144456145\", \"name\": \"W. Bruce Croft\"}]}, {\"paperId\": \"1ae2f8cad7133b1e111bdf72786415b65ee6ce93\", \"title\": \"The Capacity of Private Information Retrieval from Byzantine and Colluding Databases\", \"venue\": \"IEEE Transactions on Information Theory\", \"year\": 2017, \"authors\": [{\"authorId\": \"1995965\", \"name\": \"Karim A. Banawan\"}, {\"authorId\": \"1744394\", \"name\": \"S. Ulukus\"}]}, {\"paperId\": \"4cc5f709c372e4e87e46809c0830cac5cdaa0e40\", \"title\": \"Meeting the review family: exploring review types and associated information retrieval requirements.\", \"venue\": \"Health information and libraries journal\", \"year\": 2019, \"authors\": [{\"authorId\": \"35333489\", \"name\": \"A. Sutton\"}, {\"authorId\": \"145247460\", \"name\": \"M. Clowes\"}, {\"authorId\": \"121377785\", \"name\": \"L. Preston\"}, {\"authorId\": \"2057603300\", \"name\": \"A. Booth\"}]}, {\"paperId\": \"5f2cbe15668ed1365d3b3f34b13691673a75bfea\", \"title\": \"An Introduction to Neural Information Retrieval\", \"venue\": \"Found. Trends Inf. Retr.\", \"year\": 2018, \"authors\": [{\"authorId\": \"116506812\", \"name\": \"Bhaskar Mitra\"}, {\"authorId\": \"1703980\", \"name\": \"Nick Craswell\"}]}, {\"paperId\": \"61344ba701960b3d16e4792216e4b2ef9bc7c570\", \"title\": \"Anserini: Enabling the Use of Lucene for Information Retrieval Research\", \"venue\": \"SIGIR\", \"year\": 2017, \"authors\": [{\"authorId\": \"2377909\", \"name\": \"Peilin Yang\"}, {\"authorId\": \"145344526\", \"name\": \"H. Fang\"}, {\"authorId\": \"145580839\", \"name\": \"Jimmy J. Lin\"}]}, {\"paperId\": \"5fc5c5a4e489e781de434567d946e6eb65c44f60\", \"title\": \"Learning to rank for information retrieval\", \"venue\": \"SIGIR\", \"year\": 2009, \"authors\": [{\"authorId\": \"2110264337\", \"name\": \"Tie-Yan Liu\"}]}, {\"paperId\": \"6cc4531ac17956eb31fc41f51ac9bb3882d15624\", \"title\": \"The Capacity of Robust Private Information Retrieval With Colluding Databases\", \"venue\": \"IEEE Transactions on Information Theory\", \"year\": 2016, \"authors\": [{\"authorId\": \"143844138\", \"name\": \"Hua Sun\"}, {\"authorId\": \"145486824\", \"name\": \"S. Jafar\"}]}, {\"paperId\": \"8a76b52ce9315b8ac1249248d128a777dc6cd9ea\", \"title\": \"Multi-Message Private Information Retrieval: Capacity Results and Near-Optimal Schemes\", \"venue\": \"IEEE Transactions on Information Theory\", \"year\": 2017, \"authors\": [{\"authorId\": \"1995965\", \"name\": \"Karim A. Banawan\"}, {\"authorId\": \"1744394\", \"name\": \"S. Ulukus\"}]}, {\"paperId\": \"caa8b954566c9a97db0267b281d8a9843ecfac3d\", \"title\": \"Research Frontiers in Information Retrieval Report from the Third Strategic Workshop on Information Retrieval in Lorne (SWIRL 2018)\", \"venue\": \"\", \"year\": 2018, \"authors\": [{\"authorId\": \"1678892\", \"name\": \"N. Kando\"}, {\"authorId\": \"144448479\", \"name\": \"Alistair Moffat\"}, {\"authorId\": \"1732541\", \"name\": \"F. Scholer\"}, {\"authorId\": \"1780364\", \"name\": \"Laurianne Sitbon\"}, {\"authorId\": \"48702898\", \"name\": \"Damiano Spina\"}, {\"authorId\": \"145980720\", \"name\": \"A. Trotman\"}, {\"authorId\": \"1746656\", \"name\": \"E. Voorhees\"}, {\"authorId\": \"49724730\", \"name\": \"Emine Yilmaz\"}, {\"authorId\": \"1692855\", \"name\": \"G. Zuccon\"}]}, {\"paperId\": \"109398d45e12a0e8bfdf0010ab3036251da9d100\", \"title\": \"Multiround Private Information Retrieval: Capacity and Storage Overhead\", \"venue\": \"IEEE Transactions on Information Theory\", \"year\": 2016, \"authors\": [{\"authorId\": \"143844138\", \"name\": \"Hua Sun\"}, {\"authorId\": \"145486824\", \"name\": \"S. Jafar\"}]}, {\"paperId\": \"3e37b7d4b60334ba083f60d69a73a8c251458d03\", \"title\": \"Research Frontiers in Information Retrieval: Report from the Third Strategic Workshop on Information Retrieval in Lorne (SWIRL 2018)\", \"venue\": \"SIGF\", \"year\": 2018, \"authors\": [{\"authorId\": \"144159418\", \"name\": \"J. Culpepper\"}, {\"authorId\": \"145472333\", \"name\": \"Fernando Diaz\"}, {\"authorId\": \"1689089\", \"name\": \"M. Smucker\"}]}, {\"paperId\": \"211d7f4534bb3d98893fad74e0690e17b1861942\", \"title\": \"A Study of Smoothing Methods for Language Models Applied to Ad Hoc Information Retrieval\", \"venue\": \"SIGIR Forum\", \"year\": 2001, \"authors\": [{\"authorId\": \"1736467\", \"name\": \"ChengXiang Zhai\"}, {\"authorId\": \"1739581\", \"name\": \"J. Lafferty\"}]}, {\"paperId\": \"ba30c27884f6fd25e324538a42ef4a8a8952f353\", \"title\": \"Few-Shot Learning Through an Information Retrieval Lens\", \"venue\": \"NIPS\", \"year\": 2017, \"authors\": [{\"authorId\": \"2064782825\", \"name\": \"Eleni Triantafillou\"}, {\"authorId\": \"1804104\", \"name\": \"R. Zemel\"}, {\"authorId\": \"2422559\", \"name\": \"R. Urtasun\"}]}, {\"paperId\": \"1c2f0b86f9956c4abf824a2b41a735a80508f59a\", \"title\": \"Document Language Models, Query Models, and Risk Minimization for Information Retrieval\", \"venue\": \"SIGIR Forum\", \"year\": 2001, \"authors\": [{\"authorId\": \"1739581\", \"name\": \"J. Lafferty\"}, {\"authorId\": \"1736467\", \"name\": \"ChengXiang Zhai\"}]}, {\"paperId\": \"aad41c3828185b8d3e89b73867476b63ad0b9383\", \"title\": \"Neural Models for Information Retrieval\", \"venue\": \"ArXiv\", \"year\": 2017, \"authors\": [{\"authorId\": \"116506812\", \"name\": \"Bhaskar Mitra\"}, {\"authorId\": \"1703980\", \"name\": \"Nick Craswell\"}]}, {\"paperId\": \"4083ad1066cfa2ff0d65866ef4b011399d6873d1\", \"title\": \"Relevance feedback in information retrieval\", \"venue\": \"\", \"year\": 1971, \"authors\": [{\"authorId\": \"134211067\", \"name\": \"J. Rocchio\"}]}, {\"paperId\": \"ab5b6d74a464c7d7278a280bff967995edd6a907\", \"title\": \"Statistical biases in Information Retrieval metrics for recommender systems\", \"venue\": \"Information Retrieval Journal\", \"year\": 2017, \"authors\": [{\"authorId\": \"1738219\", \"name\": \"Alejandro Bellog\\u00edn\"}, {\"authorId\": \"2912921\", \"name\": \"P. Castells\"}, {\"authorId\": \"1737406\", \"name\": \"Iv\\u00e1n Cantador\"}]}, {\"paperId\": \"7dcb1e6d6f6180659ff003784dc65c495086892b\", \"title\": \"The Capacity of Private Information Retrieval\", \"venue\": \"2016 IEEE Global Communications Conference (GLOBECOM)\", \"year\": 2016, \"authors\": [{\"authorId\": \"143844138\", \"name\": \"Hua Sun\"}, {\"authorId\": \"145486824\", \"name\": \"S. Jafar\"}]}, {\"paperId\": \"c15679f1e190f559cb6123bfa058b5b8adc8c81e\", \"title\": \"Neural information retrieval: at the end of the early years\", \"venue\": \"Information Retrieval Journal\", \"year\": 2018, \"authors\": [{\"authorId\": \"2766922\", \"name\": \"Kezban Dilek Onal\"}, {\"authorId\": \"39724818\", \"name\": \"Ye Zhang\"}, {\"authorId\": \"1757482\", \"name\": \"Ismail Seng\\u00f6r Alting\\u00f6vde\"}, {\"authorId\": \"2116361706\", \"name\": \"Md. Mustafizur Rahman\"}, {\"authorId\": \"2777963\", \"name\": \"P. Senkul\"}, {\"authorId\": \"51427469\", \"name\": \"Alexander Braylan\"}, {\"authorId\": \"40629713\", \"name\": \"B. Dang\"}, {\"authorId\": \"2116152139\", \"name\": \"Heng-Lu Chang\"}, {\"authorId\": \"2109554017\", \"name\": \"Henna Kim\"}, {\"authorId\": \"8493000\", \"name\": \"Quinten McNamara\"}, {\"authorId\": \"20888398\", \"name\": \"A. Angert\"}, {\"authorId\": \"145546504\", \"name\": \"Edward Banner\"}, {\"authorId\": \"3638684\", \"name\": \"Vivek Khetan\"}, {\"authorId\": \"40623583\", \"name\": \"Tyler McDonnell\"}, {\"authorId\": \"2080369972\", \"name\": \"A. T. Nguyen\"}, {\"authorId\": \"144742695\", \"name\": \"Dan Xu\"}, {\"authorId\": \"1912476\", \"name\": \"Byron C. Wallace\"}, {\"authorId\": \"1696030\", \"name\": \"M. de Rijke\"}, {\"authorId\": \"1747771\", \"name\": \"Matthew Lease\"}]}, {\"paperId\": \"03995790bf86a1c34fd02c072d05a1ecfaa603cb\", \"title\": \"Information Retrieval and Text Mining Technologies for Chemistry.\", \"venue\": \"Chemical reviews\", \"year\": 2017, \"authors\": [{\"authorId\": \"3286328\", \"name\": \"Martin Krallinger\"}, {\"authorId\": \"3357404\", \"name\": \"O. Rabal\"}, {\"authorId\": \"38211958\", \"name\": \"A. Louren\\u00e7o\"}, {\"authorId\": \"1889900\", \"name\": \"J. Oyarz\\u00e1bal\"}, {\"authorId\": \"145786321\", \"name\": \"A. Valencia\"}]}, {\"paperId\": \"22ae02d81c21cb90b0de071550cfb99e6a623e62\", \"title\": \"Deep Sentence Embedding Using Long Short-Term Memory Networks: Analysis and Application to Information Retrieval\", \"venue\": \"IEEE/ACM Transactions on Audio, Speech, and Language Processing\", \"year\": 2015, \"authors\": [{\"authorId\": \"2542427\", \"name\": \"H. Palangi\"}, {\"authorId\": \"144718788\", \"name\": \"L. Deng\"}, {\"authorId\": \"1752875\", \"name\": \"Yelong Shen\"}, {\"authorId\": \"1800422\", \"name\": \"Jianfeng Gao\"}, {\"authorId\": \"144137069\", \"name\": \"Xiaodong He\"}, {\"authorId\": \"1720246\", \"name\": \"Jianshu Chen\"}, {\"authorId\": \"2831106\", \"name\": \"Xinying Song\"}, {\"authorId\": \"39079344\", \"name\": \"R. Ward\"}]}, {\"paperId\": \"26afce2b127e6291d87dba76391343a65b0bca8b\", \"title\": \"On the concept of relevance in legal information retrieval\", \"venue\": \"Artificial Intelligence and Law\", \"year\": 2017, \"authors\": [{\"authorId\": \"2796718\", \"name\": \"M. V. Opijnen\"}, {\"authorId\": \"49465144\", \"name\": \"Cristiana Santos\"}]}, {\"paperId\": \"3041a9265afb2ebdb4915aa9572668bb7f32b0ef\", \"title\": \"From Word Embeddings to Document Similarities for Improved Information Retrieval in Software Engineering\", \"venue\": \"2016 IEEE/ACM 38th International Conference on Software Engineering (ICSE)\", \"year\": 2016, \"authors\": [{\"authorId\": \"1836278643\", \"name\": \"Xin Ye\"}, {\"authorId\": \"2110826308\", \"name\": \"Hui Shen\"}, {\"authorId\": \"2115573502\", \"name\": \"Xiao Ma\"}, {\"authorId\": \"3139133\", \"name\": \"Razvan C. Bunescu\"}, {\"authorId\": \"2118483756\", \"name\": \"Chang Liu\"}]}, {\"paperId\": \"ca57a7bd1bb7c5943ae973f1d8f5e5fa20f40cbd\", \"title\": \"Stuff I've Seen: A System for Personal Information Retrieval and Re-Use\", \"venue\": \"SIGF\", \"year\": 2003, \"authors\": [{\"authorId\": \"1728602\", \"name\": \"S. Dumais\"}, {\"authorId\": \"1722375\", \"name\": \"Edward Cutrell\"}, {\"authorId\": \"2745040\", \"name\": \"Jonathan J. Cadiz\"}, {\"authorId\": \"2193264\", \"name\": \"Gavin Jancke\"}, {\"authorId\": \"39769661\", \"name\": \"Raman Sarin\"}, {\"authorId\": \"40363373\", \"name\": \"Daniel C. Robbins\"}]}, {\"paperId\": \"b4465c399f2937990077eb57200ef7be6788e428\", \"title\": \"Private information retrieval\", \"venue\": \"Proceedings of IEEE 36th Annual Foundations of Computer Science\", \"year\": 1995, \"authors\": [{\"authorId\": \"1722541\", \"name\": \"B. Chor\"}, {\"authorId\": \"1738470\", \"name\": \"E. Kushilevitz\"}, {\"authorId\": \"1707322\", \"name\": \"Oded Goldreich\"}, {\"authorId\": \"1748838\", \"name\": \"M. Sudan\"}]}, {\"paperId\": \"4467c4dd82747f0e58cb5c52cb19c994c0082a89\", \"title\": \"Private information retrieval from MDS coded data in distributed storage systems\", \"venue\": \"2016 IEEE International Symposium on Information Theory (ISIT)\", \"year\": 2016, \"authors\": [{\"authorId\": \"78653009\", \"name\": \"Razane Tajeddine\"}, {\"authorId\": \"40464010\", \"name\": \"S. Rouayheb\"}]}, {\"paperId\": \"3f2f6772d96d972e3b2da5aaa8a0f2feefdf827f\", \"title\": \"Automatic Text Processing: The Transformation, Analysis, and Retrieval of Information by Computer\", \"venue\": \"\", \"year\": 1989, \"authors\": [{\"authorId\": \"1797808\", \"name\": \"G. Salton\"}]}, {\"paperId\": \"38735f5ddde4a637d3cfdc039874c120ce1d5bff\", \"title\": \"XPIR : Private Information Retrieval for Everyone\", \"venue\": \"Proc. Priv. Enhancing Technol.\", \"year\": 2016, \"authors\": [{\"authorId\": \"1681525\", \"name\": \"C. A. Melchor\"}, {\"authorId\": \"46775133\", \"name\": \"Joris Barrier\"}, {\"authorId\": \"1735874\", \"name\": \"Laurent Fousse\"}, {\"authorId\": \"1798219\", \"name\": \"Marc-Olivier Killijian\"}]}, {\"paperId\": \"6050944a981fe98f921ed779e59a9e44e045ce3d\", \"title\": \"Monolingual and Cross-Lingual Information Retrieval Models Based on (Bilingual) Word Embeddings\", \"venue\": \"SIGIR\", \"year\": 2015, \"authors\": [{\"authorId\": \"1747849\", \"name\": \"Ivan Vulic\"}, {\"authorId\": \"145446752\", \"name\": \"Marie-Francine Moens\"}]}, {\"paperId\": \"414813fb61636b74cb1136545401e71780fe0bbf\", \"title\": \"The Capacity of Symmetric Private Information Retrieval\", \"venue\": \"2016 IEEE Globecom Workshops (GC Wkshps)\", \"year\": 2016, \"authors\": [{\"authorId\": \"143844138\", \"name\": \"Hua Sun\"}, {\"authorId\": \"145486824\", \"name\": \"S. Jafar\"}]}, {\"paperId\": \"66aff3976b8aeaaca141bf1cbbff7e59bfaedcac\", \"title\": \"A Survey of Query Auto Completion in Information Retrieval\", \"venue\": \"Found. Trends Inf. Retr.\", \"year\": 2016, \"authors\": [{\"authorId\": \"145030663\", \"name\": \"Fei Cai\"}, {\"authorId\": \"1696030\", \"name\": \"M. de Rijke\"}]}, {\"paperId\": \"9ca8c15b5d348d84efd881bec0d2caa7aa190302\", \"title\": \"Information Retrieval Implementing And Evaluating Search Engines\", \"venue\": \"\", \"year\": 2016, \"authors\": [{\"authorId\": \"48383036\", \"name\": \"N. Bauer\"}]}, {\"paperId\": \"7e8d5a108c28cdfb92f419ce919fbf7993dfebfc\", \"title\": \"A Latent Semantic Model with Convolutional-Pooling Structure for Information Retrieval\", \"venue\": \"CIKM\", \"year\": 2014, \"authors\": [{\"authorId\": \"1752875\", \"name\": \"Yelong Shen\"}, {\"authorId\": \"144137069\", \"name\": \"Xiaodong He\"}, {\"authorId\": \"1800422\", \"name\": \"Jianfeng Gao\"}, {\"authorId\": \"144718788\", \"name\": \"L. Deng\"}, {\"authorId\": \"1935910\", \"name\": \"G. Mesnil\"}]}, {\"paperId\": \"9bf9d3a0c2e6ffb41b145d7f277f7a0d750eb478\", \"title\": \"Online Evaluation for Information Retrieval\", \"venue\": \"Found. Trends Inf. Retr.\", \"year\": 2016, \"authors\": [{\"authorId\": \"145186674\", \"name\": \"Katja Hofmann\"}, {\"authorId\": \"47681372\", \"name\": \"Lihong Li\"}, {\"authorId\": \"1803571\", \"name\": \"Filip Radlinski\"}]}, {\"paperId\": \"b4c04125ea2ff8ad7010b900bd1481b9c18da98b\", \"title\": \"A generic framework for ontology-based information retrieval and image retrieval in web data\", \"venue\": \"Human-centric Computing and Information Sciences\", \"year\": 2016, \"authors\": [{\"authorId\": \"7255006\", \"name\": \"V. Vijayarajan\"}, {\"authorId\": \"144119884\", \"name\": \"M. Dinakaran\"}, {\"authorId\": \"3376877\", \"name\": \"Priyam Tejaswin\"}, {\"authorId\": \"8522416\", \"name\": \"Mayank Lohani\"}]}, {\"paperId\": \"1e3ded57c5d1e90e95f4f6bdbbe1cbf30ff6690f\", \"title\": \"Private information retrieval for coded storage\", \"venue\": \"2015 IEEE International Symposium on Information Theory (ISIT)\", \"year\": 2014, \"authors\": [{\"authorId\": \"144718712\", \"name\": \"T. Chan\"}, {\"authorId\": \"40630532\", \"name\": \"Siu-Wai Ho\"}, {\"authorId\": \"144959567\", \"name\": \"Hirosuke Yamamoto\"}]}, {\"paperId\": \"42cf161894f4b9ebb86a9109dc2af45d9eee8916\", \"title\": \"Integrating and Evaluating Neural Word Embeddings in Information Retrieval\", \"venue\": \"ADCS\", \"year\": 2015, \"authors\": [{\"authorId\": \"1692855\", \"name\": \"G. Zuccon\"}, {\"authorId\": \"1783566\", \"name\": \"B. Koopman\"}, {\"authorId\": \"1755431\", \"name\": \"P. Bruza\"}, {\"authorId\": \"1716332\", \"name\": \"L. Azzopardi\"}]}, {\"paperId\": \"d66a826ad8f66419292cf5a5c7ed22f114681b40\", \"title\": \"APPLYING GENETIC ALGORITHMS TO INFORMATION RETRIEVAL USING VECTOR SPACE MODEL\", \"venue\": \"\", \"year\": 2015, \"authors\": [{\"authorId\": \"7833679\", \"name\": \"L. Abualigah\"}, {\"authorId\": \"25133390\", \"name\": \"Essam Said Hanandeh\"}]}, {\"paperId\": \"44e915a220ce74badf755aae870fa0b69ee2b82a\", \"title\": \"Naive (Bayes) at Forty: The Independence Assumption in Information Retrieval\", \"venue\": \"ECML\", \"year\": 1998, \"authors\": [{\"authorId\": \"35153517\", \"name\": \"D. Lewis\"}]}, {\"paperId\": \"3ff2e39dc79c34a17c4ed491e3daf3e03ee5c05d\", \"title\": \"A Survey of Automatic Query Expansion in Information Retrieval\", \"venue\": \"CSUR\", \"year\": 2012, \"authors\": [{\"authorId\": \"1701045\", \"name\": \"Claudio Carpineto\"}, {\"authorId\": \"144857383\", \"name\": \"Giovanni Romano\"}]}, {\"paperId\": \"d337c141734b24395764b897d574eb74482a47d2\", \"title\": \"Dynamic Information Retrieval Modeling\", \"venue\": \"Synthesis Lectures on Information Concepts, Retrieval, and Services\", \"year\": 2015, \"authors\": [{\"authorId\": \"10237116\", \"name\": \"G. Yang\"}, {\"authorId\": \"37330821\", \"name\": \"Marc Sloan\"}, {\"authorId\": \"39055225\", \"name\": \"Jun Wang\"}]}, {\"paperId\": \"7ab00f35940fd0bcfaf5fff7c91c6b7fab9d103b\", \"title\": \"Information Retrieval with Verbose Queries\", \"venue\": \"Found. Trends Inf. Retr.\", \"year\": 2015, \"authors\": [{\"authorId\": \"46722320\", \"name\": \"Manish Gupta\"}, {\"authorId\": \"1815447\", \"name\": \"Michael Bendersky\"}]}, {\"paperId\": \"6cb234e38f7104fcd73bff04f41bfb37c96e2317\", \"title\": \"Introduction to Information Retrieval and Quantum Mechanics\", \"venue\": \"The Information Retrieval Series\", \"year\": 2015, \"authors\": [{\"authorId\": \"1678917\", \"name\": \"M. Melucci\"}]}, {\"paperId\": \"49c6cc0b9f25fa6f35f336108e1f03f4de7a2917\", \"title\": \"Information retrieval as semantic inference: a Graph Inference model applied to medical search\", \"venue\": \"Information Retrieval Journal\", \"year\": 2016, \"authors\": [{\"authorId\": \"1783566\", \"name\": \"B. Koopman\"}, {\"authorId\": \"1692855\", \"name\": \"G. Zuccon\"}, {\"authorId\": \"1755431\", \"name\": \"P. Bruza\"}, {\"authorId\": \"1780364\", \"name\": \"Laurianne Sitbon\"}, {\"authorId\": \"1702058\", \"name\": \"Michael Lawley\"}]}, {\"paperId\": \"1604de41ea8bc82aac0502daa309d3fed3f8495e\", \"title\": \"Improving bug localization using structured information retrieval\", \"venue\": \"2013 28th IEEE/ACM International Conference on Automated Software Engineering (ASE)\", \"year\": 2013, \"authors\": [{\"authorId\": \"2671585\", \"name\": \"Ripon K. Saha\"}, {\"authorId\": \"1747771\", \"name\": \"Matthew Lease\"}, {\"authorId\": \"145802044\", \"name\": \"S. Khurshid\"}, {\"authorId\": \"143977783\", \"name\": \"D. Perry\"}]}, {\"paperId\": \"d8a358fb026fda39546cf8e3cbf9e5d754d63463\", \"title\": \"An Information Retrieval Approach to Short Text Conversation\", \"venue\": \"ArXiv\", \"year\": 2014, \"authors\": [{\"authorId\": \"1701747\", \"name\": \"Zongcheng Ji\"}, {\"authorId\": \"11955007\", \"name\": \"Zhengdong Lu\"}, {\"authorId\": \"49404233\", \"name\": \"Hang Li\"}]}, {\"paperId\": \"2259fe25b38783db2769e3e2f0000689e52d70ac\", \"title\": \"Essentia: An Audio Analysis Library for Music Information Retrieval\", \"venue\": \"ISMIR\", \"year\": 2013, \"authors\": [{\"authorId\": \"144705733\", \"name\": \"D. Bogdanov\"}, {\"authorId\": \"1793520\", \"name\": \"N. Wack\"}, {\"authorId\": \"145217215\", \"name\": \"E. G\\u00f3mez\"}, {\"authorId\": \"2489825\", \"name\": \"Sankalp Gulati\"}, {\"authorId\": \"144906288\", \"name\": \"P. Herrera\"}, {\"authorId\": \"2973411\", \"name\": \"Oscar Mayor\"}, {\"authorId\": \"35581798\", \"name\": \"Gerard Roma\"}, {\"authorId\": \"1786276\", \"name\": \"J. Salamon\"}, {\"authorId\": \"1882841\", \"name\": \"J. R. Zapata\"}, {\"authorId\": \"144611740\", \"name\": \"X. Serra\"}]}, {\"paperId\": \"d51e5171bbb03ae4b984e6c7704b93c385618484\", \"title\": \"Music Information Retrieval: Recent Developments and Applications\", \"venue\": \"Found. Trends Inf. Retr.\", \"year\": 2014, \"authors\": [{\"authorId\": \"144125621\", \"name\": \"M. Schedl\"}, {\"authorId\": \"145217215\", \"name\": \"E. G\\u00f3mez\"}, {\"authorId\": \"144554719\", \"name\": \"Juli\\u00e1n Urbano\"}]}, {\"paperId\": \"e829ee7fe48f4b1e451378b6a21470b2f86c0aa6\", \"title\": \"One extra bit of download ensures perfectly private information retrieval\", \"venue\": \"2014 IEEE International Symposium on Information Theory\", \"year\": 2014, \"authors\": [{\"authorId\": \"1737249\", \"name\": \"Nihar B. Shah\"}, {\"authorId\": \"2453556\", \"name\": \"K. V. Rashmi\"}, {\"authorId\": \"144161012\", \"name\": \"K. Ramchandran\"}]}, {\"paperId\": \"c88c631f204f49eff0d0a3426908463f881644fd\", \"title\": \"Survey of Temporal Information Retrieval and Related Applications\", \"venue\": \"ACM Comput. Surv.\", \"year\": 2014, \"authors\": [{\"authorId\": \"145523707\", \"name\": \"Ricardo Campos\"}, {\"authorId\": \"143673279\", \"name\": \"G. Dias\"}, {\"authorId\": \"1772839\", \"name\": \"A. Jorge\"}, {\"authorId\": \"1774986\", \"name\": \"A. Jatowt\"}]}, {\"paperId\": \"9695b92f08d563ec053d4c89927836d9c8f01d26\", \"title\": \"Information retrieval for music and motion\", \"venue\": \"\", \"year\": 2007, \"authors\": [{\"authorId\": \"2116144530\", \"name\": \"Meinard M\\u00fcller\"}]}, {\"paperId\": \"753d2a35c9edf5dfcac4ef3a6adc993b657b01f0\", \"title\": \"Beyond Part Models: Person Retrieval with Refined Part Pooling\", \"venue\": \"ECCV\", \"year\": 2017, \"authors\": [{\"authorId\": \"2108935429\", \"name\": \"Yifan Sun\"}, {\"authorId\": \"144802394\", \"name\": \"Liang Zheng\"}, {\"authorId\": \"7179962\", \"name\": \"Yi Yang\"}, {\"authorId\": \"144876831\", \"name\": \"Q. Tian\"}, {\"authorId\": \"1678689\", \"name\": \"Shengjin Wang\"}]}, {\"paperId\": \"e1a8434b864cfd162daac37fc6b9255a2a40e0f2\", \"title\": \"An Introduction to Information Retrieval\", \"venue\": \"\", \"year\": 2013, \"authors\": [{\"authorId\": \"144161686\", \"name\": \"S. Ceri\"}, {\"authorId\": \"1710630\", \"name\": \"A. Bozzon\"}, {\"authorId\": \"40350773\", \"name\": \"Marco Brambilla\"}, {\"authorId\": \"2539248\", \"name\": \"E. D. Valle\"}, {\"authorId\": \"1704595\", \"name\": \"P. Fraternali\"}, {\"authorId\": \"1794305\", \"name\": \"S. Quarteroni\"}]}, {\"paperId\": \"1e2cbb68a44f0e3ae5ffaa4ebfcb8f52b1bafc78\", \"title\": \"Better late than never: information retrieval from black holes.\", \"venue\": \"Physical review letters\", \"year\": 2009, \"authors\": [{\"authorId\": \"2854182\", \"name\": \"S. Braunstein\"}, {\"authorId\": \"1773054\", \"name\": \"S. Pirandola\"}, {\"authorId\": \"2360503\", \"name\": \"K. \\u017byczkowski\"}]}, {\"paperId\": \"4fbe1e8f65f4c71565e8e6eb47c0c3a78a182bf3\", \"title\": \"Translation techniques in cross-language information retrieval\", \"venue\": \"CSUR\", \"year\": 2012, \"authors\": [{\"authorId\": \"144066008\", \"name\": \"Dong Zhou\"}, {\"authorId\": \"1693495\", \"name\": \"M. Truran\"}, {\"authorId\": \"1683308\", \"name\": \"T. Brailsford\"}, {\"authorId\": \"1715807\", \"name\": \"V. Wade\"}, {\"authorId\": \"1710024\", \"name\": \"H. Ashman\"}]}, {\"paperId\": \"b086212c7bdb005bb70e7b1fb86aa3ead5b3b0f4\", \"title\": \"The neglected user in music information retrieval research\", \"venue\": \"Journal of Intelligent Information Systems\", \"year\": 2013, \"authors\": [{\"authorId\": \"144125621\", \"name\": \"M. Schedl\"}, {\"authorId\": \"1718282\", \"name\": \"A. Flexer\"}, {\"authorId\": \"144554719\", \"name\": \"Juli\\u00e1n Urbano\"}]}, {\"paperId\": \"629a62c681a03ab7875d0883a986978b280e76d3\", \"title\": \"Outsourced symmetric private information retrieval\", \"venue\": \"IACR Cryptol. ePrint Arch.\", \"year\": 2013, \"authors\": [{\"authorId\": \"1720978\", \"name\": \"Stanislaw Jarecki\"}, {\"authorId\": \"2878366\", \"name\": \"C. Jutla\"}, {\"authorId\": \"4451238\", \"name\": \"H. Krawczyk\"}, {\"authorId\": \"144191430\", \"name\": \"Marcel-Catalin Rosu\"}, {\"authorId\": \"1443777331\", \"name\": \"M. Steiner\"}]}, {\"paperId\": \"a81874b4a651a740fffbfc47ef96515e8c7f782f\", \"title\": \"Latent Retrieval for Weakly Supervised Open Domain Question Answering\", \"venue\": \"ACL\", \"year\": 2019, \"authors\": [{\"authorId\": \"2544107\", \"name\": \"Kenton Lee\"}, {\"authorId\": \"1744179\", \"name\": \"Ming-Wei Chang\"}, {\"authorId\": \"3259253\", \"name\": \"Kristina Toutanova\"}]}, {\"paperId\": \"e7846369553a81bea6b191d7b4c2fd9ed7a223eb\", \"title\": \"Evaluation in Music Information Retrieval\", \"venue\": \"Journal of Intelligent Information Systems\", \"year\": 2013, \"authors\": [{\"authorId\": \"144554719\", \"name\": \"Juli\\u00e1n Urbano\"}, {\"authorId\": \"144125621\", \"name\": \"M. Schedl\"}, {\"authorId\": \"144611740\", \"name\": \"X. Serra\"}]}, {\"paperId\": \"cabe73e89b6389a163393ecbf1b82d20ba4ea10f\", \"title\": \"Content-based multimedia information retrieval: State of the art and challenges\", \"venue\": \"TOMCCAP\", \"year\": 2006, \"authors\": [{\"authorId\": \"1731570\", \"name\": \"M. Lew\"}, {\"authorId\": \"1703601\", \"name\": \"N. Sebe\"}, {\"authorId\": \"1705776\", \"name\": \"C. Djeraba\"}, {\"authorId\": \"144938740\", \"name\": \"R. Jain\"}]}, {\"paperId\": \"047dcb24c6e314087794842a8c1ba3ee4490893a\", \"title\": \"Balancing exploration and exploitation in listwise and pairwise online learning to rank for information retrieval\", \"venue\": \"Information Retrieval\", \"year\": 2013, \"authors\": [{\"authorId\": \"145186674\", \"name\": \"Katja Hofmann\"}, {\"authorId\": \"1766767\", \"name\": \"Shimon Whiteson\"}, {\"authorId\": \"1696030\", \"name\": \"M. de Rijke\"}]}, {\"paperId\": \"09a2071b55a79243722d12f7939458ea27eb78e8\", \"title\": \"Modern Information Retrieval - the concepts and technology behind search, Second edition\", \"venue\": \"\", \"year\": 2011, \"authors\": [{\"authorId\": \"1389957009\", \"name\": \"R. Baeza-Yates\"}, {\"authorId\": \"1396785771\", \"name\": \"B. Ribeiro-Neto\"}]}, {\"paperId\": \"f1ca16dd768292fbcb4953c344fcee761705e8f8\", \"title\": \"The History of Information Retrieval Research\", \"venue\": \"Proceedings of the IEEE\", \"year\": 2012, \"authors\": [{\"authorId\": \"144721996\", \"name\": \"M. Sanderson\"}, {\"authorId\": \"144456145\", \"name\": \"W. Bruce Croft\"}]}, {\"paperId\": \"1420ddbec40916173dc58be7af60790289893d84\", \"title\": \"Optimally Robust Private Information Retrieval\", \"venue\": \"USENIX Security Symposium\", \"year\": 2012, \"authors\": [{\"authorId\": \"2951641\", \"name\": \"Casey Devet\"}, {\"authorId\": \"34614659\", \"name\": \"I. Goldberg\"}, {\"authorId\": \"2842650\", \"name\": \"N. Heninger\"}]}, {\"paperId\": \"1597a64f1738e49305a59d8822de65b390bc1dd9\", \"title\": \"Frontiers, challenges, and opportunities for information retrieval: Report from SWIRL 2012 the second strategic workshop on information retrieval in Lorne\", \"venue\": \"SIGF\", \"year\": 2012, \"authors\": [{\"authorId\": \"144890574\", \"name\": \"James Allan\"}, {\"authorId\": \"144456145\", \"name\": \"W. Bruce Croft\"}, {\"authorId\": \"144448479\", \"name\": \"Alistair Moffat\"}, {\"authorId\": \"144721996\", \"name\": \"M. Sanderson\"}]}, {\"paperId\": \"bbadc66b0c919bf0aa4e26c7ecae86b495391057\", \"title\": \"Personalised Information Retrieval: survey and classification\", \"venue\": \"User Modeling and User-Adapted Interaction\", \"year\": 2013, \"authors\": [{\"authorId\": \"1767499\", \"name\": \"M. R. Ghorab\"}, {\"authorId\": \"144066008\", \"name\": \"Dong Zhou\"}, {\"authorId\": \"1397619317\", \"name\": \"A. O'Connor\"}, {\"authorId\": \"1715807\", \"name\": \"V. Wade\"}]}, {\"paperId\": \"3a02f2823d39d2b1c91067032420fdf4290b0592\", \"title\": \"Data Fusion in Information Retrieval\", \"venue\": \"Adaptation, Learning, and Optimization\", \"year\": 2012, \"authors\": [{\"authorId\": \"1684230\", \"name\": \"Shengli Wu\"}]}, {\"paperId\": \"9f4ec57919f892dc1e4b56637b3ef1f34c1b0316\", \"title\": \"Freenet: A Distributed Anonymous Information Storage and Retrieval System\", \"venue\": \"Workshop on Design Issues in Anonymity and Unobservability\", \"year\": 2000, \"authors\": [{\"authorId\": \"121826540\", \"name\": \"I. Clarke\"}, {\"authorId\": \"145127006\", \"name\": \"Oskar Sandberg\"}, {\"authorId\": \"145419473\", \"name\": \"Brandon Wiley\"}, {\"authorId\": \"145661808\", \"name\": \"Theodore W. Hong\"}]}, {\"paperId\": \"06871028d4e71ceefe879853e9dc2183ea81bb32\", \"title\": \"Using Linear Algebra for Intelligent Information Retrieval\", \"venue\": \"SIAM Rev.\", \"year\": 1995, \"authors\": [{\"authorId\": \"2271549\", \"name\": \"M. Berry\"}, {\"authorId\": \"1728602\", \"name\": \"S. Dumais\"}, {\"authorId\": \"1401512392\", \"name\": \"G. O'Brien\"}]}, {\"paperId\": \"38de590b8290c7628df38d010aef7dbb153f85da\", \"title\": \"Crowdsourcing for information retrieval\", \"venue\": \"SIGF\", \"year\": 2012, \"authors\": [{\"authorId\": \"1747771\", \"name\": \"Matthew Lease\"}, {\"authorId\": \"49724730\", \"name\": \"Emine Yilmaz\"}]}, {\"paperId\": \"271afa1d279c340debdd6241a7cce61220fb5fd9\", \"title\": \"Information retrieval model: A social network extraction perspective\", \"venue\": \"2012 International Conference on Information Retrieval & Knowledge Management\", \"year\": 2012, \"authors\": [{\"authorId\": \"144333296\", \"name\": \"M. K. Nasution\"}, {\"authorId\": \"2480890\", \"name\": \"S. Noah\"}]}, {\"paperId\": \"2175dafeb0a9e6965da72bc0849111eff0da16f1\", \"title\": \"Multilingual Information Retrieval\", \"venue\": \"Springer Berlin Heidelberg\", \"year\": 2012, \"authors\": [{\"authorId\": \"144423157\", \"name\": \"C. Peters\"}, {\"authorId\": \"3075644\", \"name\": \"Martin Braschler\"}, {\"authorId\": \"1704149\", \"name\": \"Paul D. Clough\"}]}, {\"paperId\": \"089d8cfc97d0e00c3d46dd4796e6261a0140f0c3\", \"title\": \"APTEEN: a hybrid protocol for efficient routing and comprehensive information retrieval in wireless\", \"venue\": \"Proceedings 16th International Parallel and Distributed Processing Symposium\", \"year\": 2002, \"authors\": [{\"authorId\": \"2480353\", \"name\": \"A. Manjeshwar\"}, {\"authorId\": \"2059077698\", \"name\": \"D. Agrawal\"}]}, {\"paperId\": \"3f133e39f3fb543f25a1a75400b81c0d42c6a91c\", \"title\": \"Information Retrieval: Data Structures and Algorithms\", \"venue\": \"\", \"year\": 1992, \"authors\": [{\"authorId\": \"3163834\", \"name\": \"W. Frakes\"}, {\"authorId\": \"1389957009\", \"name\": \"R. Baeza-Yates\"}]}, {\"paperId\": \"7d986dac610e20441adb9161e5466c88932626e9\", \"title\": \"A study of smoothing methods for language models applied to information retrieval\", \"venue\": \"TOIS\", \"year\": 2004, \"authors\": [{\"authorId\": \"143869012\", \"name\": \"ChengXiang Zhai\"}, {\"authorId\": \"1739581\", \"name\": \"J. Lafferty\"}]}, {\"paperId\": \"054080d32f41ec461758fdc382935a45b033836b\", \"title\": \"A study of smoothing methods for language models applied to Ad Hoc information retrieval\", \"venue\": \"SIGIR '01\", \"year\": 2001, \"authors\": [{\"authorId\": \"1736467\", \"name\": \"ChengXiang Zhai\"}, {\"authorId\": \"1739581\", \"name\": \"J. Lafferty\"}]}, {\"paperId\": \"c17289ea3d4f1d621fddb807870a802b3220e2b2\", \"title\": \"Information retrieval systems, information retrieval apparatus, information retrieval method, and a program\", \"venue\": \"\", \"year\": 2013, \"authors\": [{\"authorId\": \"52421883\", \"name\": \"\\u6df3 \\u5bcc\\u58eb\\u672c\"}, {\"authorId\": \"71395198\", \"name\": \"\\u8aa0\\u4e4b \\u91ce\\u4e2d\"}, {\"authorId\": \"66735564\", \"name\": \"\\u91ce\\u4e2d \\u8aa0\\u4e4b\"}, {\"authorId\": \"73666186\", \"name\": \"\\u88d5 \\u52dd\\u5009\"}, {\"authorId\": \"72708182\", \"name\": \"\\u52dd\\u5009 \\u88d5\"}]}, {\"paperId\": \"9b5d79a92f510fd1e32b4e0e714b44ff9fb50ee3\", \"title\": \"Graph-based term weighting for information retrieval\", \"venue\": \"Information Retrieval\", \"year\": 2012, \"authors\": [{\"authorId\": \"144367841\", \"name\": \"Roi Blanco\"}, {\"authorId\": \"1784800\", \"name\": \"C. Lioma\"}]}, {\"paperId\": \"5f4f970e18c09aafeafaeb42d729ca243f811db0\", \"title\": \"Learning to Rank for Information Retrieval and Natural Language Processing\", \"venue\": \"Synthesis Lectures on Human Language Technologies\", \"year\": 2011, \"authors\": [{\"authorId\": \"49404233\", \"name\": \"Hang Li\"}]}, {\"paperId\": \"67f62edf31234326d22f980534b2e86dce512b1a\", \"title\": \"Modern information retrieval: the concepts and technology behind search\", \"venue\": \"\", \"year\": 2011, \"authors\": [{\"authorId\": \"1716902\", \"name\": \"Marti A. Hearst\"}]}, {\"paperId\": \"dff9c4988d374e556c2940973b3f5b7980596509\", \"title\": \"Search Engines: Information Retrieval in Practice\", \"venue\": \"Comput. J.\", \"year\": 2011, \"authors\": [{\"authorId\": \"143716988\", \"name\": \"M. Levene\"}]}, {\"paperId\": \"69a5dba45472d34ba7246d6eb9065b5dad5ca51d\", \"title\": \"Information filtering and information retrieval: two sides of the same coin?\", \"venue\": \"CACM\", \"year\": 1992, \"authors\": [{\"authorId\": \"2095083\", \"name\": \"N. Belkin\"}, {\"authorId\": \"144456145\", \"name\": \"W. Bruce Croft\"}]}, {\"paperId\": \"f0bc70cb4d9d5b7fde62bedd532faadf03775ab1\", \"title\": \"Concept-Based Information Retrieval Using Explicit Semantic Analysis\", \"venue\": \"TOIS\", \"year\": 2011, \"authors\": [{\"authorId\": \"1875787\", \"name\": \"Ofer Egozi\"}, {\"authorId\": \"2309269\", \"name\": \"Shaul Markovitch\"}, {\"authorId\": \"1718798\", \"name\": \"E. Gabrilovich\"}]}, {\"paperId\": \"c029baf196f33050ceea9ecbf90f054fd5654277\", \"title\": \"Search Engines - Information Retrieval in Practice\", \"venue\": \"\", \"year\": 2009, \"authors\": [{\"authorId\": \"144456145\", \"name\": \"W. Bruce Croft\"}, {\"authorId\": \"1680617\", \"name\": \"Donald Metzler\"}, {\"authorId\": \"2985957\", \"name\": \"Trevor Strohman\"}]}, {\"paperId\": \"3a3d508407cf04be784c76b482c448a4b60c15a4\", \"title\": \"Graph-based Natural Language Processing and Information Retrieval\", \"venue\": \"\", \"year\": 2011, \"authors\": [{\"authorId\": \"145557251\", \"name\": \"Rada Mihalcea\"}, {\"authorId\": \"9215251\", \"name\": \"Dragomir R. Radev\"}]}, {\"paperId\": \"10b6b9d3a898068de54d69590a38940dbfd039e2\", \"title\": \"Temporal Information Retrieval: Challenges and Opportunities\", \"venue\": \"TWAW\", \"year\": 2011, \"authors\": [{\"authorId\": \"144419174\", \"name\": \"Omar Alonso\"}, {\"authorId\": \"2013656\", \"name\": \"Jannik Str\\u00f6tgen\"}, {\"authorId\": \"1389957009\", \"name\": \"R. Baeza-Yates\"}, {\"authorId\": \"40136143\", \"name\": \"Michael Gertz\"}]}, {\"paperId\": \"1af4aa8826fdee95a22fedbfc2f88b657af0ce08\", \"title\": \"Visual information retrieval\", \"venue\": \"\", \"year\": 1999, \"authors\": [{\"authorId\": \"8196487\", \"name\": \"A. Bimbo\"}]}, {\"paperId\": \"ec684bb3d0a49fc41cc2d020cf8b558347e8c81b\", \"title\": \"The semantics of similarity in geographic information retrieval\", \"venue\": \"J. Spatial Inf. Sci.\", \"year\": 2011, \"authors\": [{\"authorId\": \"1727108\", \"name\": \"K. Janowicz\"}, {\"authorId\": \"2763102\", \"name\": \"M. Raubal\"}, {\"authorId\": \"145938927\", \"name\": \"W. Kuhn\"}]}, {\"paperId\": \"da457a529ee78d44f1aa07fe1960657f6cec7957\", \"title\": \"Phase Retrieval via Wirtinger Flow: Theory and Algorithms\", \"venue\": \"IEEE Transactions on Information Theory\", \"year\": 2014, \"authors\": [{\"authorId\": \"2006869\", \"name\": \"E. Cand\\u00e8s\"}, {\"authorId\": \"2118899110\", \"name\": \"Xiaodong Li\"}, {\"authorId\": \"2766123\", \"name\": \"M. Soltanolkotabi\"}]}]}\n",
            "\n"
          ]
        },
        {
          "ename": "NameError",
          "evalue": "name 'text2' is not defined",
          "output_type": "error",
          "traceback": [
            "\u001b[1;31m---------------------------------------------------------------------------\u001b[0m",
            "\u001b[1;31mNameError\u001b[0m                                 Traceback (most recent call last)",
            "\u001b[1;32m~\\AppData\\Local\\Temp/ipykernel_9908/4132442769.py\u001b[0m in \u001b[0;36m<module>\u001b[1;34m\u001b[0m\n\u001b[0;32m     11\u001b[0m     \u001b[0mprint\u001b[0m\u001b[1;33m(\u001b[0m\u001b[0mtext_r\u001b[0m\u001b[1;33m)\u001b[0m\u001b[1;33m\u001b[0m\u001b[1;33m\u001b[0m\u001b[0m\n\u001b[0;32m     12\u001b[0m     \u001b[1;32mwith\u001b[0m \u001b[0mopen\u001b[0m\u001b[1;33m(\u001b[0m\u001b[1;34m'2348407-meta.txt'\u001b[0m\u001b[1;33m,\u001b[0m \u001b[1;34m'w'\u001b[0m\u001b[1;33m)\u001b[0m \u001b[1;32mas\u001b[0m \u001b[0mfile_r\u001b[0m\u001b[1;33m:\u001b[0m\u001b[1;33m\u001b[0m\u001b[1;33m\u001b[0m\u001b[0m\n\u001b[1;32m---> 13\u001b[1;33m         \u001b[0mjson\u001b[0m\u001b[1;33m.\u001b[0m\u001b[0mdump\u001b[0m\u001b[1;33m(\u001b[0m\u001b[0mtext2\u001b[0m\u001b[1;33m,\u001b[0m \u001b[0mfile_r\u001b[0m\u001b[1;33m)\u001b[0m\u001b[1;33m\u001b[0m\u001b[1;33m\u001b[0m\u001b[0m\n\u001b[0m",
            "\u001b[1;31mNameError\u001b[0m: name 'text2' is not defined"
          ]
        }
      ],
      "source": [
        "# You code here (Please add comments in the code):\n",
        "\n",
        "import urllib.request\n",
        "from bs4 import BeautifulSoup\n",
        "import json\n",
        "\n",
        "with urllib.request.urlopen('https://api.semanticscholar.org/graph/v1/paper/search?query=information+retrieval&offset=0&limit=99&fields=title,authors,year,venue') as filein:\n",
        "    page_r = filein.read()\n",
        "    soup_r = BeautifulSoup(page_r)\n",
        "    text_r = soup_r.p.text\n",
        "    print(text_r)\n",
        "    with open('2348407-meta.txt', 'w') as file_r:\n",
        "        json.dump(text2, file_r)"
      ]
    },
    {
      "cell_type": "markdown",
      "metadata": {
        "id": "pTrIY7kptUXP"
      },
      "source": [
        "Question 4 (10 points): Write python code to collect 1000 posts from Twitter, or Facebook, or Instagram. You can either use hashtags, keywords, user_name, user_id, or other information to collect the data. \n",
        "\n",
        "The following information needs to be collected:\n",
        "\n",
        "(1) User_name\n",
        "\n",
        "(2) Posted time\n",
        "\n",
        "(3) Text "
      ]
    },
    {
      "cell_type": "code",
      "execution_count": null,
      "metadata": {
        "id": "b6lw0i_etUXP",
        "outputId": "f7b9b04a-a860-4c1b-83f4-8bba94a50a84"
      },
      "outputs": [
        {
          "name": "stdout",
          "output_type": "stream",
          "text": [
            "Requirement already satisfied: tweepy in c:\\users\\harsh\\anaconda3\\lib\\site-packages (4.10.1)\n",
            "Requirement already satisfied: oauthlib<4,>=3.2.0 in c:\\users\\harsh\\anaconda3\\lib\\site-packages (from tweepy) (3.2.1)\n",
            "Requirement already satisfied: requests-oauthlib<2,>=1.2.0 in c:\\users\\harsh\\anaconda3\\lib\\site-packages (from tweepy) (1.3.1)\n",
            "Requirement already satisfied: requests<3,>=2.27.0 in c:\\users\\harsh\\anaconda3\\lib\\site-packages (from tweepy) (2.28.1)\n",
            "Requirement already satisfied: certifi>=2017.4.17 in c:\\users\\harsh\\anaconda3\\lib\\site-packages (from requests<3,>=2.27.0->tweepy) (2021.10.8)\n",
            "Requirement already satisfied: urllib3<1.27,>=1.21.1 in c:\\users\\harsh\\anaconda3\\lib\\site-packages (from requests<3,>=2.27.0->tweepy) (1.26.7)\n",
            "Requirement already satisfied: charset-normalizer<3,>=2 in c:\\users\\harsh\\anaconda3\\lib\\site-packages (from requests<3,>=2.27.0->tweepy) (2.0.4)\n",
            "Requirement already satisfied: idna<4,>=2.5 in c:\\users\\harsh\\anaconda3\\lib\\site-packages (from requests<3,>=2.27.0->tweepy) (3.2)\n"
          ]
        }
      ],
      "source": [
        "# You code here (Please add comments in the code):\n",
        "!pip install tweepy\n",
        "\n"
      ]
    },
    {
      "cell_type": "code",
      "execution_count": null,
      "metadata": {
        "id": "D_eVhCmYtUXP"
      },
      "outputs": [],
      "source": [
        "import pandas as pd\n",
        "import numpy as np\n",
        "import tweepy\n",
        "from tweepy import OAuthHandler"
      ]
    },
    {
      "cell_type": "code",
      "execution_count": null,
      "metadata": {
        "id": "cI5_uCQitUXP",
        "outputId": "c9d6c1b5-9ca9-49a2-8518-3bc977572fdf"
      },
      "outputs": [
        {
          "name": "stdout",
          "output_type": "stream",
          "text": [
            "Requirement already satisfied: requests in c:\\users\\harsh\\anaconda3\\lib\\site-packages (2.28.1)\n",
            "Requirement already satisfied: idna<4,>=2.5 in c:\\users\\harsh\\anaconda3\\lib\\site-packages (from requests) (3.2)\n",
            "Requirement already satisfied: charset-normalizer<3,>=2 in c:\\users\\harsh\\anaconda3\\lib\\site-packages (from requests) (2.0.4)\n",
            "Requirement already satisfied: certifi>=2017.4.17 in c:\\users\\harsh\\anaconda3\\lib\\site-packages (from requests) (2021.10.8)\n",
            "Requirement already satisfied: urllib3<1.27,>=1.21.1 in c:\\users\\harsh\\anaconda3\\lib\\site-packages (from requests) (1.26.7)\n",
            "Note: you may need to restart the kernel to use updated packages.\n"
          ]
        }
      ],
      "source": [
        "pip install requests"
      ]
    },
    {
      "cell_type": "code",
      "execution_count": null,
      "metadata": {
        "id": "FlHqBWPbtUXQ"
      },
      "outputs": [],
      "source": [
        "import requests\n",
        "import json"
      ]
    },
    {
      "cell_type": "code",
      "execution_count": null,
      "metadata": {
        "id": "svjW8zPWtUXQ"
      },
      "outputs": [],
      "source": [
        "agent_key =\"2Em7SxlX9jPMfL4x97r3zMO0x\"\n",
        "agent_secret = \"sVbJzekKuiAgq83Y7gCwNVbSowqQokGVzWexKHl2cXIPceWtSd\"\n",
        "agent_token =\"1439767876962029572-uUMt8oWRyzj9ilE5zk4uYbL93sCMPT\"\n",
        "agent_token_secret = \"oydIGymn9bS767FVEMawE9GyGAnMmBJfaY2XXKmHnmliF\"\n"
      ]
    },
    {
      "cell_type": "code",
      "execution_count": null,
      "metadata": {
        "id": "iwxnFjyqtUXQ"
      },
      "outputs": [],
      "source": [
        "auth = tweepy.OAuthHandler(agent_key, agent_secret)\n",
        "auth.set_access_token(agent_token, agent_token_secret)\n",
        "api = tweepy.API(auth,wait_on_rate_limit=True)"
      ]
    },
    {
      "cell_type": "code",
      "execution_count": null,
      "metadata": {
        "id": "9f5hMFA4tUXQ",
        "outputId": "e3e51c13-2557-4a2e-bb03-9669f08b7cc0"
      },
      "outputs": [
        {
          "name": "stdout",
          "output_type": "stream",
          "text": [
            "Enter user name\tPawanKalyan\n"
          ]
        }
      ],
      "source": [
        "user_name =str(input(\"Enter user name\\t\"))"
      ]
    },
    {
      "cell_type": "code",
      "execution_count": null,
      "metadata": {
        "id": "visIQ5WMtUXQ",
        "outputId": "10c2194b-94b2-48ed-b855-87ff06ad0c6e"
      },
      "outputs": [
        {
          "name": "stderr",
          "output_type": "stream",
          "text": [
            "Unexpected parameter: id\n",
            "Unexpected parameter: id\n",
            "Unexpected parameter: id\n",
            "Unexpected parameter: id\n",
            "Unexpected parameter: id\n",
            "Unexpected parameter: id\n",
            "Unexpected parameter: id\n",
            "Unexpected parameter: id\n",
            "Unexpected parameter: id\n",
            "Unexpected parameter: id\n",
            "Unexpected parameter: id\n",
            "Unexpected parameter: id\n",
            "Unexpected parameter: id\n",
            "Unexpected parameter: id\n",
            "Unexpected parameter: id\n",
            "Unexpected parameter: id\n",
            "Unexpected parameter: id\n",
            "Unexpected parameter: id\n",
            "Unexpected parameter: id\n",
            "Unexpected parameter: id\n",
            "Unexpected parameter: id\n",
            "Unexpected parameter: id\n",
            "Unexpected parameter: id\n",
            "Unexpected parameter: id\n",
            "Unexpected parameter: id\n",
            "Unexpected parameter: id\n",
            "Unexpected parameter: id\n",
            "Unexpected parameter: id\n",
            "Unexpected parameter: id\n",
            "Unexpected parameter: id\n",
            "Unexpected parameter: id\n",
            "Unexpected parameter: id\n",
            "Unexpected parameter: id\n",
            "Unexpected parameter: id\n",
            "Unexpected parameter: id\n",
            "Unexpected parameter: id\n",
            "Unexpected parameter: id\n",
            "Unexpected parameter: id\n",
            "Unexpected parameter: id\n",
            "Unexpected parameter: id\n",
            "Unexpected parameter: id\n",
            "Unexpected parameter: id\n",
            "Unexpected parameter: id\n",
            "Unexpected parameter: id\n",
            "Unexpected parameter: id\n",
            "Unexpected parameter: id\n",
            "Unexpected parameter: id\n",
            "Unexpected parameter: id\n",
            "Unexpected parameter: id\n",
            "Unexpected parameter: id\n"
          ]
        },
        {
          "data": {
            "text/html": [
              "<div>\n",
              "<style scoped>\n",
              "    .dataframe tbody tr th:only-of-type {\n",
              "        vertical-align: middle;\n",
              "    }\n",
              "\n",
              "    .dataframe tbody tr th {\n",
              "        vertical-align: top;\n",
              "    }\n",
              "\n",
              "    .dataframe thead th {\n",
              "        text-align: right;\n",
              "    }\n",
              "</style>\n",
              "<table border=\"1\" class=\"dataframe\">\n",
              "  <thead>\n",
              "    <tr style=\"text-align: right;\">\n",
              "      <th></th>\n",
              "      <th>user_name</th>\n",
              "      <th>posted time</th>\n",
              "      <th>text</th>\n",
              "    </tr>\n",
              "  </thead>\n",
              "  <tbody>\n",
              "    <tr>\n",
              "      <th>0</th>\n",
              "      <td>PawanKalyan</td>\n",
              "      <td>2022-09-06 10:18:01+00:00</td>\n",
              "      <td>..అటువంటి  లోతైన ఆలోచన శబ్దబేరీలకు చెదరదు..\\nగ...</td>\n",
              "    </tr>\n",
              "    <tr>\n",
              "      <th>1</th>\n",
              "      <td>PawanKalyan</td>\n",
              "      <td>2022-09-06 10:18:00+00:00</td>\n",
              "      <td>లోతైన  మనస్సు మూలల నుంచి  ఉద్భవించే శక్తివంతమై...</td>\n",
              "    </tr>\n",
              "    <tr>\n",
              "      <th>2</th>\n",
              "      <td>PawanKalyan</td>\n",
              "      <td>2022-09-06 10:13:24+00:00</td>\n",
              "      <td>\"Beneath Noise,Amidst Chaos,Beyond Logic,Invis...</td>\n",
              "    </tr>\n",
              "    <tr>\n",
              "      <th>3</th>\n",
              "      <td>PawanKalyan</td>\n",
              "      <td>2022-09-04 05:05:55+00:00</td>\n",
              "      <td>My Pranams 🙏 to Great Rishi  Dadhichi on his J...</td>\n",
              "    </tr>\n",
              "    <tr>\n",
              "      <th>4</th>\n",
              "      <td>PawanKalyan</td>\n",
              "      <td>2022-08-27 12:38:45+00:00</td>\n",
              "      <td>6) cont..మన జనసేన పార్టీ మూల సిద్ధాంతాల్లో ఒకట...</td>\n",
              "    </tr>\n",
              "    <tr>\n",
              "      <th>...</th>\n",
              "      <td>...</td>\n",
              "      <td>...</td>\n",
              "      <td>...</td>\n",
              "    </tr>\n",
              "    <tr>\n",
              "      <th>995</th>\n",
              "      <td>PawanKalyan</td>\n",
              "      <td>2020-04-03 10:45:11+00:00</td>\n",
              "      <td>RT @mygovindia: Let's take a moment to thank t...</td>\n",
              "    </tr>\n",
              "    <tr>\n",
              "      <th>996</th>\n",
              "      <td>PawanKalyan</td>\n",
              "      <td>2020-04-03 09:38:56+00:00</td>\n",
              "      <td>ఆయుధాలు లేకుండా సైనికులను యుద్ధానికి పంపడం న్య...</td>\n",
              "    </tr>\n",
              "    <tr>\n",
              "      <th>997</th>\n",
              "      <td>PawanKalyan</td>\n",
              "      <td>2020-04-03 09:12:17+00:00</td>\n",
              "      <td>RT @PurandeswariBJP: Our BJP Andhra Pradesh ka...</td>\n",
              "    </tr>\n",
              "    <tr>\n",
              "      <th>998</th>\n",
              "      <td>PawanKalyan</td>\n",
              "      <td>2020-04-03 08:45:54+00:00</td>\n",
              "      <td>Rs.50 lakh been transferred to Telangana CM re...</td>\n",
              "    </tr>\n",
              "    <tr>\n",
              "      <th>999</th>\n",
              "      <td>PawanKalyan</td>\n",
              "      <td>2020-04-03 08:38:00+00:00</td>\n",
              "      <td>As a part of  my  Rs. 2 crore commitment to fi...</td>\n",
              "    </tr>\n",
              "  </tbody>\n",
              "</table>\n",
              "<p>1000 rows × 3 columns</p>\n",
              "</div>"
            ],
            "text/plain": [
              "       user_name               posted time  \\\n",
              "0    PawanKalyan 2022-09-06 10:18:01+00:00   \n",
              "1    PawanKalyan 2022-09-06 10:18:00+00:00   \n",
              "2    PawanKalyan 2022-09-06 10:13:24+00:00   \n",
              "3    PawanKalyan 2022-09-04 05:05:55+00:00   \n",
              "4    PawanKalyan 2022-08-27 12:38:45+00:00   \n",
              "..           ...                       ...   \n",
              "995  PawanKalyan 2020-04-03 10:45:11+00:00   \n",
              "996  PawanKalyan 2020-04-03 09:38:56+00:00   \n",
              "997  PawanKalyan 2020-04-03 09:12:17+00:00   \n",
              "998  PawanKalyan 2020-04-03 08:45:54+00:00   \n",
              "999  PawanKalyan 2020-04-03 08:38:00+00:00   \n",
              "\n",
              "                                                  text  \n",
              "0    ..అటువంటి  లోతైన ఆలోచన శబ్దబేరీలకు చెదరదు..\\nగ...  \n",
              "1    లోతైన  మనస్సు మూలల నుంచి  ఉద్భవించే శక్తివంతమై...  \n",
              "2    \"Beneath Noise,Amidst Chaos,Beyond Logic,Invis...  \n",
              "3    My Pranams 🙏 to Great Rishi  Dadhichi on his J...  \n",
              "4    6) cont..మన జనసేన పార్టీ మూల సిద్ధాంతాల్లో ఒకట...  \n",
              "..                                                 ...  \n",
              "995  RT @mygovindia: Let's take a moment to thank t...  \n",
              "996  ఆయుధాలు లేకుండా సైనికులను యుద్ధానికి పంపడం న్య...  \n",
              "997  RT @PurandeswariBJP: Our BJP Andhra Pradesh ka...  \n",
              "998  Rs.50 lakh been transferred to Telangana CM re...  \n",
              "999  As a part of  my  Rs. 2 crore commitment to fi...  \n",
              "\n",
              "[1000 rows x 3 columns]"
            ]
          },
          "execution_count": 13,
          "metadata": {},
          "output_type": "execute_result"
        }
      ],
      "source": [
        "User_tweets = tweepy.Cursor(api.user_timeline,id=user_name).items(1000)\n",
        "\n",
        "tweets_list = [[user_name ,User_tweet.created_at, User_tweet.text] for User_tweet in User_tweets]\n",
        " \n",
        " # Creation of dataframe from tweets list\n",
        " # Add or remove columns as you remove tweet information\n",
        "tweets_df = pd.DataFrame(tweets_list)\n",
        "tweets_df.columns=['user_name','posted time','text']\n",
        "tweets_df"
      ]
    },
    {
      "cell_type": "code",
      "execution_count": null,
      "metadata": {
        "id": "J8u3qWBMtUXQ"
      },
      "outputs": [],
      "source": []
    },
    {
      "cell_type": "code",
      "execution_count": null,
      "metadata": {
        "id": "bhxK5nL2tUXR"
      },
      "outputs": [],
      "source": []
    }
  ],
  "metadata": {
    "kernelspec": {
      "display_name": "Python 3 (ipykernel)",
      "language": "python",
      "name": "python3"
    },
    "language_info": {
      "codemirror_mode": {
        "name": "ipython",
        "version": 3
      },
      "file_extension": ".py",
      "mimetype": "text/x-python",
      "name": "python",
      "nbconvert_exporter": "python",
      "pygments_lexer": "ipython3",
      "version": "3.9.7"
    },
    "colab": {
      "provenance": [],
      "include_colab_link": true
    }
  },
  "nbformat": 4,
  "nbformat_minor": 0
}