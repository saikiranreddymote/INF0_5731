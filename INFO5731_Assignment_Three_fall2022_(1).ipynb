{
  "cells": [
    {
      "cell_type": "markdown",
      "metadata": {
        "id": "view-in-github",
        "colab_type": "text"
      },
      "source": [
        "<a href=\"https://colab.research.google.com/github/saikiranreddymote/INF0_5731/blob/main/INFO5731_Assignment_Three_fall2022_(1).ipynb\" target=\"_parent\"><img src=\"https://colab.research.google.com/assets/colab-badge.svg\" alt=\"Open In Colab\"/></a>"
      ]
    },
    {
      "cell_type": "markdown",
      "metadata": {
        "id": "USSdXHuqnwv9"
      },
      "source": [
        "# **INFO5731 Assignment Three**\n",
        "\n",
        "In this assignment, you are required to conduct information extraction, semantic analysis based on **the dataset you collected from assignment two**. You may use scipy and numpy package in this assignment."
      ]
    },
    {
      "cell_type": "markdown",
      "metadata": {
        "id": "YWxodXh5n4xF"
      },
      "source": [
        "# **Question 1: Understand N-gram**"
      ]
    },
    {
      "cell_type": "markdown",
      "metadata": {
        "id": "TenBkDJ5n95k"
      },
      "source": [
        "(45 points). Write a python program to conduct N-gram analysis based on the dataset in your assignment two:\n",
        "\n",
        "(1) Count the frequency of all the N-grams (N=3).\n",
        "\n",
        "(2) Calculate the probabilities for all the bigrams in the dataset by using the fomular count(w2 w1) / count(w2). For example, count(really like) / count(really) = 1 / 3 = 0.33.\n",
        "\n",
        "(3) Extract all the **noun phrases** and calculate the relative probabilities of each review in terms of other reviews (abstracts, or tweets) by using the fomular frequency (noun phrase) / max frequency (noun phrase) on the whole dataset. Print out the result in a table with column name the all the noun phrases and row name as all the 100 reviews (abstracts, or tweets). \n"
      ]
    },
    {
      "cell_type": "code",
      "execution_count": null,
      "metadata": {
        "colab": {
          "base_uri": "https://localhost:8080/"
        },
        "id": "PuFPKhC0m1fd",
        "outputId": "ed50ac63-0982-4150-800e-89bb6f573bc6"
      },
      "outputs": [
        {
          "output_type": "stream",
          "name": "stdout",
          "text": [
            "Looking in indexes: https://pypi.org/simple, https://us-python.pkg.dev/colab-wheels/public/simple/\n",
            "Requirement already satisfied: transformers in /usr/local/lib/python3.7/dist-packages (4.24.0)\n",
            "Requirement already satisfied: requests in /usr/local/lib/python3.7/dist-packages (from transformers) (2.23.0)\n",
            "Requirement already satisfied: packaging>=20.0 in /usr/local/lib/python3.7/dist-packages (from transformers) (21.3)\n",
            "Requirement already satisfied: numpy>=1.17 in /usr/local/lib/python3.7/dist-packages (from transformers) (1.21.6)\n",
            "Requirement already satisfied: importlib-metadata in /usr/local/lib/python3.7/dist-packages (from transformers) (4.13.0)\n",
            "Requirement already satisfied: pyyaml>=5.1 in /usr/local/lib/python3.7/dist-packages (from transformers) (6.0)\n",
            "Requirement already satisfied: filelock in /usr/local/lib/python3.7/dist-packages (from transformers) (3.8.0)\n",
            "Requirement already satisfied: regex!=2019.12.17 in /usr/local/lib/python3.7/dist-packages (from transformers) (2022.6.2)\n",
            "Requirement already satisfied: tqdm>=4.27 in /usr/local/lib/python3.7/dist-packages (from transformers) (4.64.1)\n",
            "Requirement already satisfied: huggingface-hub<1.0,>=0.10.0 in /usr/local/lib/python3.7/dist-packages (from transformers) (0.11.0)\n",
            "Requirement already satisfied: tokenizers!=0.11.3,<0.14,>=0.11.1 in /usr/local/lib/python3.7/dist-packages (from transformers) (0.13.2)\n",
            "Requirement already satisfied: typing-extensions>=3.7.4.3 in /usr/local/lib/python3.7/dist-packages (from huggingface-hub<1.0,>=0.10.0->transformers) (4.1.1)\n",
            "Requirement already satisfied: pyparsing!=3.0.5,>=2.0.2 in /usr/local/lib/python3.7/dist-packages (from packaging>=20.0->transformers) (3.0.9)\n",
            "Requirement already satisfied: zipp>=0.5 in /usr/local/lib/python3.7/dist-packages (from importlib-metadata->transformers) (3.10.0)\n",
            "Requirement already satisfied: idna<3,>=2.5 in /usr/local/lib/python3.7/dist-packages (from requests->transformers) (2.10)\n",
            "Requirement already satisfied: urllib3!=1.25.0,!=1.25.1,<1.26,>=1.21.1 in /usr/local/lib/python3.7/dist-packages (from requests->transformers) (1.24.3)\n",
            "Requirement already satisfied: chardet<4,>=3.0.2 in /usr/local/lib/python3.7/dist-packages (from requests->transformers) (3.0.4)\n",
            "Requirement already satisfied: certifi>=2017.4.17 in /usr/local/lib/python3.7/dist-packages (from requests->transformers) (2022.9.24)\n"
          ]
        },
        {
          "output_type": "stream",
          "name": "stderr",
          "text": [
            "[nltk_data] Downloading package punkt to /root/nltk_data...\n",
            "[nltk_data]   Package punkt is already up-to-date!\n",
            "[nltk_data] Downloading package wordnet to /root/nltk_data...\n",
            "[nltk_data]   Package wordnet is already up-to-date!\n"
          ]
        }
      ],
      "source": [
        "# Write your code here\n",
        "# Write your code here\n",
        "!pip install transformers\n",
        "\n",
        "import warnings\n",
        "import matplotlib.pyplot as plt\n",
        "import seaborn as sns\n",
        "import torch\n",
        "import transformers\n",
        "from gensim.models.phrases import Phrases, Phraser\n",
        "from gensim.models import Word2Vec\n",
        "from tensorflow.keras.callbacks import EarlyStopping, ModelCheckpoint\n",
        "from tensorflow.keras.layers import Dense\n",
        "from tensorflow.keras.models import Sequential\n",
        "import tensorflow as tf\n",
        "from nltk.classify import NaiveBayesClassifier\n",
        "from nltk.sentiment import SentimentAnalyzer\n",
        "import nltk\n",
        "from collections import Counter\n",
        "from sklearn.pipeline import Pipeline, make_pipeline\n",
        "from sklearn.metrics import accuracy_score, confusion_matrix\n",
        "from sklearn.feature_selection import chi2\n",
        "from sklearn.decomposition import PCA\n",
        "from sklearn.base import BaseEstimator, TransformerMixin\n",
        "from sklearn.model_selection import train_test_split\n",
        "from sklearn.ensemble import RandomForestClassifier, AdaBoostClassifier, AdaBoostRegressor\n",
        "from sklearn.feature_extraction.text import CountVectorizer, TfidfVectorizer\n",
        "import numpy as np\n",
        "import pandas as pd\n",
        "import time\n",
        "import pickle\n",
        "import os\n",
        "\n",
        "\n",
        "nltk.download('punkt')\n",
        "nltk.download('wordnet')\n",
        "\n",
        "\n",
        "warnings.simplefilter(action='ignore', category=FutureWarning)\n",
        "\n",
        "\n",
        "\n",
        "\n",
        "\n",
        "\n",
        "\n",
        "\n"
      ]
    },
    {
      "cell_type": "code",
      "source": [
        "df = pd.read_csv(\"twitter.csv\", on_bad_lines='skip')\n",
        "df[\"'polarity'\"] = df[\"'polarity'\"].map({0: 0, 2: 1, 4: 2})\n",
        "df.dropna(inplace=True)\n",
        "pd.set_option('display.max_colwidth', None)\n",
        "df.head(2)\n"
      ],
      "metadata": {
        "colab": {
          "base_uri": "https://localhost:8080/",
          "height": 191
        },
        "id": "5TGax77Jlx8t",
        "outputId": "e090b5b8-f7d3-4976-de66-edd417674c9e"
      },
      "execution_count": null,
      "outputs": [
        {
          "output_type": "execute_result",
          "data": {
            "text/plain": [
              "   'polarity'  'id'                        'date'  'query'  'user'  \\\n",
              "0           2     3  Mon May 11 03:17:40 UTC 2009  kindle2  tpryan   \n",
              "1           2     4  Mon May 11 03:18:03 UTC 2009  kindle2  vcu451   \n",
              "\n",
              "                                                                                                            'text'  \n",
              "0  @stellargirl I loooooooovvvvvveee my Kindle2. Not that the DX is cool, but the 2 is fantastic in its own right.  \n",
              "1                                                       Reading my kindle2...  Love it... Lee childs is good read.  "
            ],
            "text/html": [
              "\n",
              "  <div id=\"df-adcfcd6d-a932-4956-9dad-2765b7ac6a76\">\n",
              "    <div class=\"colab-df-container\">\n",
              "      <div>\n",
              "<style scoped>\n",
              "    .dataframe tbody tr th:only-of-type {\n",
              "        vertical-align: middle;\n",
              "    }\n",
              "\n",
              "    .dataframe tbody tr th {\n",
              "        vertical-align: top;\n",
              "    }\n",
              "\n",
              "    .dataframe thead th {\n",
              "        text-align: right;\n",
              "    }\n",
              "</style>\n",
              "<table border=\"1\" class=\"dataframe\">\n",
              "  <thead>\n",
              "    <tr style=\"text-align: right;\">\n",
              "      <th></th>\n",
              "      <th>'polarity'</th>\n",
              "      <th>'id'</th>\n",
              "      <th>'date'</th>\n",
              "      <th>'query'</th>\n",
              "      <th>'user'</th>\n",
              "      <th>'text'</th>\n",
              "    </tr>\n",
              "  </thead>\n",
              "  <tbody>\n",
              "    <tr>\n",
              "      <th>0</th>\n",
              "      <td>2</td>\n",
              "      <td>3</td>\n",
              "      <td>Mon May 11 03:17:40 UTC 2009</td>\n",
              "      <td>kindle2</td>\n",
              "      <td>tpryan</td>\n",
              "      <td>@stellargirl I loooooooovvvvvveee my Kindle2. Not that the DX is cool, but the 2 is fantastic in its own right.</td>\n",
              "    </tr>\n",
              "    <tr>\n",
              "      <th>1</th>\n",
              "      <td>2</td>\n",
              "      <td>4</td>\n",
              "      <td>Mon May 11 03:18:03 UTC 2009</td>\n",
              "      <td>kindle2</td>\n",
              "      <td>vcu451</td>\n",
              "      <td>Reading my kindle2...  Love it... Lee childs is good read.</td>\n",
              "    </tr>\n",
              "  </tbody>\n",
              "</table>\n",
              "</div>\n",
              "      <button class=\"colab-df-convert\" onclick=\"convertToInteractive('df-adcfcd6d-a932-4956-9dad-2765b7ac6a76')\"\n",
              "              title=\"Convert this dataframe to an interactive table.\"\n",
              "              style=\"display:none;\">\n",
              "        \n",
              "  <svg xmlns=\"http://www.w3.org/2000/svg\" height=\"24px\"viewBox=\"0 0 24 24\"\n",
              "       width=\"24px\">\n",
              "    <path d=\"M0 0h24v24H0V0z\" fill=\"none\"/>\n",
              "    <path d=\"M18.56 5.44l.94 2.06.94-2.06 2.06-.94-2.06-.94-.94-2.06-.94 2.06-2.06.94zm-11 1L8.5 8.5l.94-2.06 2.06-.94-2.06-.94L8.5 2.5l-.94 2.06-2.06.94zm10 10l.94 2.06.94-2.06 2.06-.94-2.06-.94-.94-2.06-.94 2.06-2.06.94z\"/><path d=\"M17.41 7.96l-1.37-1.37c-.4-.4-.92-.59-1.43-.59-.52 0-1.04.2-1.43.59L10.3 9.45l-7.72 7.72c-.78.78-.78 2.05 0 2.83L4 21.41c.39.39.9.59 1.41.59.51 0 1.02-.2 1.41-.59l7.78-7.78 2.81-2.81c.8-.78.8-2.07 0-2.86zM5.41 20L4 18.59l7.72-7.72 1.47 1.35L5.41 20z\"/>\n",
              "  </svg>\n",
              "      </button>\n",
              "      \n",
              "  <style>\n",
              "    .colab-df-container {\n",
              "      display:flex;\n",
              "      flex-wrap:wrap;\n",
              "      gap: 12px;\n",
              "    }\n",
              "\n",
              "    .colab-df-convert {\n",
              "      background-color: #E8F0FE;\n",
              "      border: none;\n",
              "      border-radius: 50%;\n",
              "      cursor: pointer;\n",
              "      display: none;\n",
              "      fill: #1967D2;\n",
              "      height: 32px;\n",
              "      padding: 0 0 0 0;\n",
              "      width: 32px;\n",
              "    }\n",
              "\n",
              "    .colab-df-convert:hover {\n",
              "      background-color: #E2EBFA;\n",
              "      box-shadow: 0px 1px 2px rgba(60, 64, 67, 0.3), 0px 1px 3px 1px rgba(60, 64, 67, 0.15);\n",
              "      fill: #174EA6;\n",
              "    }\n",
              "\n",
              "    [theme=dark] .colab-df-convert {\n",
              "      background-color: #3B4455;\n",
              "      fill: #D2E3FC;\n",
              "    }\n",
              "\n",
              "    [theme=dark] .colab-df-convert:hover {\n",
              "      background-color: #434B5C;\n",
              "      box-shadow: 0px 1px 3px 1px rgba(0, 0, 0, 0.15);\n",
              "      filter: drop-shadow(0px 1px 2px rgba(0, 0, 0, 0.3));\n",
              "      fill: #FFFFFF;\n",
              "    }\n",
              "  </style>\n",
              "\n",
              "      <script>\n",
              "        const buttonEl =\n",
              "          document.querySelector('#df-adcfcd6d-a932-4956-9dad-2765b7ac6a76 button.colab-df-convert');\n",
              "        buttonEl.style.display =\n",
              "          google.colab.kernel.accessAllowed ? 'block' : 'none';\n",
              "\n",
              "        async function convertToInteractive(key) {\n",
              "          const element = document.querySelector('#df-adcfcd6d-a932-4956-9dad-2765b7ac6a76');\n",
              "          const dataTable =\n",
              "            await google.colab.kernel.invokeFunction('convertToInteractive',\n",
              "                                                     [key], {});\n",
              "          if (!dataTable) return;\n",
              "\n",
              "          const docLinkHtml = 'Like what you see? Visit the ' +\n",
              "            '<a target=\"_blank\" href=https://colab.research.google.com/notebooks/data_table.ipynb>data table notebook</a>'\n",
              "            + ' to learn more about interactive tables.';\n",
              "          element.innerHTML = '';\n",
              "          dataTable['output_type'] = 'display_data';\n",
              "          await google.colab.output.renderOutput(dataTable, element);\n",
              "          const docLink = document.createElement('div');\n",
              "          docLink.innerHTML = docLinkHtml;\n",
              "          element.appendChild(docLink);\n",
              "        }\n",
              "      </script>\n",
              "    </div>\n",
              "  </div>\n",
              "  "
            ]
          },
          "metadata": {},
          "execution_count": 39
        }
      ]
    },
    {
      "cell_type": "code",
      "source": [
        "train, test = train_test_split(df[[\"'text'\", \"'polarity'\"]], random_state=0)\n",
        "X_train = train[\"'text'\"]\n",
        "X_test = test[\"'text'\"]\n",
        "y_train = train[\"'polarity'\"]\n",
        "y_test = test[\"'polarity'\"]"
      ],
      "metadata": {
        "id": "YfrpCcjWl2uU"
      },
      "execution_count": null,
      "outputs": []
    },
    {
      "cell_type": "code",
      "source": [
        "def get_accuracy():\n",
        "    pipe.fit(X_train, y_train)\n",
        "    y_pred = pipe.predict(X_test)\n",
        "    return round(accuracy_score(y_pred, y_test), 3)"
      ],
      "metadata": {
        "id": "XOAfJd7rl-Bg"
      },
      "execution_count": null,
      "outputs": []
    },
    {
      "cell_type": "markdown",
      "metadata": {
        "id": "AfpMRCrRwN6Z"
      },
      "source": [
        "# **Question 2: Undersand TF-IDF and Document representation**"
      ]
    },
    {
      "cell_type": "markdown",
      "metadata": {
        "id": "1dCQEbDawWCw"
      },
      "source": [
        "(20 points). Starting from the documents (all the reviews, or abstracts, or tweets) collected for assignment two, write a python program: \n",
        "\n",
        "(1) To build the **documents-terms weights (tf*idf) matrix bold text**.\n",
        "\n",
        "(2) To rank the documents with respect to query (design a query by yourself, for example, \"An Outstanding movie with a haunting performance and best character development\") by using **cosine similarity**."
      ]
    },
    {
      "cell_type": "code",
      "execution_count": null,
      "metadata": {
        "id": "vATjQNTY8buA"
      },
      "outputs": [],
      "source": [
        "# Write your code here\n",
        "count_vectorizer = CountVectorizer(max_features=1000)\n",
        "random_forest = RandomForestClassifier(max_depth=10, n_estimators=10)\n",
        "\n",
        "\n",
        "\n",
        "\n"
      ]
    },
    {
      "cell_type": "code",
      "source": [
        "pipe = make_pipeline(count_vectorizer, random_forest)"
      ],
      "metadata": {
        "id": "abvXXFY2mEOQ"
      },
      "execution_count": null,
      "outputs": []
    },
    {
      "cell_type": "code",
      "source": [
        "get_accuracy()"
      ],
      "metadata": {
        "colab": {
          "base_uri": "https://localhost:8080/"
        },
        "id": "ZzKprGZ1mGsq",
        "outputId": "05b94836-cce8-4dfe-9b55-452e677cce82"
      },
      "execution_count": null,
      "outputs": [
        {
          "output_type": "execute_result",
          "data": {
            "text/plain": [
              "0.616"
            ]
          },
          "metadata": {},
          "execution_count": 44
        }
      ]
    },
    {
      "cell_type": "code",
      "source": [
        "y_pred = pipe.predict(X_test)"
      ],
      "metadata": {
        "id": "cIfIfVsVmJSR"
      },
      "execution_count": null,
      "outputs": []
    },
    {
      "cell_type": "code",
      "source": [
        "round(pd.Series(y_train).value_counts(normalize=True), 2)"
      ],
      "metadata": {
        "colab": {
          "base_uri": "https://localhost:8080/"
        },
        "id": "y7wPzjq2mMdE",
        "outputId": "2aed0629-283e-4b82-aa0d-4f23dc7e80b3"
      },
      "execution_count": null,
      "outputs": [
        {
          "output_type": "execute_result",
          "data": {
            "text/plain": [
              "2    0.38\n",
              "0    0.37\n",
              "1    0.25\n",
              "Name: 'polarity', dtype: float64"
            ]
          },
          "metadata": {},
          "execution_count": 46
        }
      ]
    },
    {
      "cell_type": "code",
      "source": [
        "round(pd.Series(y_pred).value_counts(normalize=True), 2)"
      ],
      "metadata": {
        "colab": {
          "base_uri": "https://localhost:8080/"
        },
        "id": "SSK5xNEcmO0T",
        "outputId": "2ff8db58-cb3a-4f7b-992c-9154ae66effa"
      },
      "execution_count": null,
      "outputs": [
        {
          "output_type": "execute_result",
          "data": {
            "text/plain": [
              "2    0.49\n",
              "0    0.33\n",
              "1    0.18\n",
              "dtype: float64"
            ]
          },
          "metadata": {},
          "execution_count": 47
        }
      ]
    },
    {
      "cell_type": "code",
      "source": [
        "random_forest.set_params(class_weight='balanced')\n",
        "print(get_accuracy())\n",
        "random_forest.set_params(class_weight='balanced_subsample')\n",
        "print(get_accuracy())"
      ],
      "metadata": {
        "colab": {
          "base_uri": "https://localhost:8080/"
        },
        "id": "PW_J9U5HmRqC",
        "outputId": "27cf3b13-5d71-47e7-aaf1-01dc9f4bb979"
      },
      "execution_count": null,
      "outputs": [
        {
          "output_type": "stream",
          "name": "stdout",
          "text": [
            "0.576\n",
            "0.624\n"
          ]
        }
      ]
    },
    {
      "cell_type": "code",
      "source": [
        "labels = [0, 1, 2]\n",
        "y_pred = pipe.predict(X_test)\n",
        "cm = confusion_matrix(y_test, y_pred, labels=labels)\n",
        "fig = plt.figure(figsize=(10, 5))\n",
        "ax = fig.add_subplot(111)\n",
        "cax = ax.matshow(cm)\n",
        "plt.title('Confusion matrix')\n",
        "fig.colorbar(cax)\n",
        "ax.set_xticklabels([''] + labels)\n",
        "ax.set_yticklabels([''] + labels)\n",
        "plt.xlabel('Predicted')\n",
        "plt.ylabel('True')\n",
        "plt.show()"
      ],
      "metadata": {
        "colab": {
          "base_uri": "https://localhost:8080/",
          "height": 346
        },
        "id": "vHLi6cl7mT_S",
        "outputId": "f2c74597-003b-4942-c8cd-10c2940d6493"
      },
      "execution_count": null,
      "outputs": [
        {
          "output_type": "display_data",
          "data": {
            "text/plain": [
              "<Figure size 720x360 with 2 Axes>"
            ],
            "image/png": "[encoded data removed]"
          },
          "metadata": {
            "needs_background": "light"
          }
        }
      ]
    },
    {
      "cell_type": "code",
      "source": [
        "# taken from sklearn webpage\n",
        "from nltk import word_tokenize\n",
        "from nltk.stem import WordNetLemmatizer\n",
        "\n",
        "\n",
        "class LemmaTokenizer:\n",
        "    def __init__(self):\n",
        "        self.wnl = WordNetLemmatizer()\n",
        "\n",
        "    def __call__(self, doc):\n",
        "        return [self.wnl.lemmatize(t) for t in word_tokenize(doc)]"
      ],
      "metadata": {
        "id": "72HZrZO8mWsF"
      },
      "execution_count": null,
      "outputs": []
    },
    {
      "cell_type": "code",
      "source": [
        "import nltk\n",
        "nltk.download('omw-1.4')\n",
        "pipe[0].set_params(tokenizer=LemmaTokenizer())\n",
        "get_accuracy()"
      ],
      "metadata": {
        "colab": {
          "base_uri": "https://localhost:8080/"
        },
        "id": "Ql_Cex2SmaA4",
        "outputId": "176a515b-72f9-48da-8558-64b9f7b4e786"
      },
      "execution_count": null,
      "outputs": [
        {
          "output_type": "stream",
          "name": "stderr",
          "text": [
            "[nltk_data] Downloading package omw-1.4 to /root/nltk_data...\n",
            "[nltk_data]   Package omw-1.4 is already up-to-date!\n"
          ]
        },
        {
          "output_type": "execute_result",
          "data": {
            "text/plain": [
              "0.616"
            ]
          },
          "metadata": {},
          "execution_count": 51
        }
      ]
    },
    {
      "cell_type": "code",
      "source": [
        "tfidf_vectorizer = TfidfVectorizer()\n",
        "pipe.steps[0] = ('vectorizer', tfidf_vectorizer)\n",
        "get_accuracy()"
      ],
      "metadata": {
        "colab": {
          "base_uri": "https://localhost:8080/"
        },
        "id": "_vIbhrJ5miRX",
        "outputId": "52ddd9e4-3b56-42a4-c805-c771c93ecdd9"
      },
      "execution_count": null,
      "outputs": [
        {
          "output_type": "execute_result",
          "data": {
            "text/plain": [
              "0.664"
            ]
          },
          "metadata": {},
          "execution_count": 52
        }
      ]
    },
    {
      "cell_type": "code",
      "source": [
        "ada_boost = AdaBoostClassifier()\n",
        "pipe.steps[1] = ('adaboost', ada_boost)\n",
        "get_accuracy()"
      ],
      "metadata": {
        "colab": {
          "base_uri": "https://localhost:8080/"
        },
        "id": "vW35gqazmcNz",
        "outputId": "5b0e1ed0-3140-478b-e9b7-db18853c1d1f"
      },
      "execution_count": null,
      "outputs": [
        {
          "output_type": "execute_result",
          "data": {
            "text/plain": [
              "0.544"
            ]
          },
          "metadata": {},
          "execution_count": 53
        }
      ]
    },
    {
      "cell_type": "code",
      "source": [
        "count_vectorizer.get_feature_names"
      ],
      "metadata": {
        "colab": {
          "base_uri": "https://localhost:8080/"
        },
        "id": "FT1YoLi4moEu",
        "outputId": "26a4a613-334a-483e-aee8-1b586af12121"
      },
      "execution_count": null,
      "outputs": [
        {
          "output_type": "execute_result",
          "data": {
            "text/plain": [
              "<bound method CountVectorizer.get_feature_names of CountVectorizer(max_features=1000,\n",
              "                tokenizer=<__main__.LemmaTokenizer object at 0x7efed57ec310>)>"
            ]
          },
          "metadata": {},
          "execution_count": 54
        }
      ]
    },
    {
      "cell_type": "code",
      "source": [
        "count_vectorizer = CountVectorizer()\n",
        "\n",
        "bow = count_vectorizer.fit_transform(X_train)\n",
        "\n",
        "words = count_vectorizer.get_feature_names()\n",
        "\n",
        "p_value_limit = 0.95\n",
        "\n",
        "dtf_features = pd.DataFrame()\n",
        "\n",
        "for cat in range(3):\n",
        "    _, p = chi2(bow, y_train == cat)\n",
        "    dtf_features = dtf_features.append(pd.DataFrame(\n",
        "        {\"feature\": words, \"score\": 1-p, \"y\": cat}))\n",
        "    dtf_features = dtf_features.sort_values([\"y\", \"score\"],\n",
        "                                            ascending=[True, False])\n",
        "    dtf_features = dtf_features[dtf_features[\"score\"] > p_value_limit]\n",
        "\n",
        "X_names = dtf_features[\"feature\"].unique().tolist()\n",
        "\n",
        "pipe['vectorizer'].set_params(vocabulary=X_names)\n",
        "\n",
        "get_accuracy()"
      ],
      "metadata": {
        "colab": {
          "base_uri": "https://localhost:8080/"
        },
        "id": "sQGj-xyLmq7K",
        "outputId": "21f13d51-2eeb-4856-a521-ebc6b666d91f"
      },
      "execution_count": null,
      "outputs": [
        {
          "output_type": "execute_result",
          "data": {
            "text/plain": [
              "0.624"
            ]
          },
          "metadata": {},
          "execution_count": 55
        }
      ]
    },
    {
      "cell_type": "code",
      "source": [
        "mc = ModelCheckpoint('best_model.h5', monitor='val_accuracy',\n",
        "                     mode='max', verbose=1, save_best_only=True)"
      ],
      "metadata": {
        "id": "Z9ZCoyI2mtcw"
      },
      "execution_count": null,
      "outputs": []
    },
    {
      "cell_type": "code",
      "source": [
        "def fit_sequential(X_train, X_test, sequential=None, epochs=20, patience=5):\n",
        "\n",
        "    if sequential is None:\n",
        "        input_size = X_train.shape[1]\n",
        "\n",
        "        sequential = tf.keras.models.Sequential([\n",
        "            tf.keras.layers.Flatten(input_shape=(input_size, )),\n",
        "            tf.keras.layers.Dense(128),\n",
        "            tf.keras.layers.Dropout(0.2),\n",
        "            tf.keras.layers.Dense(3, activation='sigmoid')\n",
        "        ])\n",
        "        loss_fn = tf.keras.losses.SparseCategoricalCrossentropy(\n",
        "            from_logits=True)\n",
        "        sequential.compile(optimizer='adam', loss=loss_fn,\n",
        "                           metrics=['accuracy'])\n",
        "        global mc\n",
        "        mc = ModelCheckpoint('best_model.h5', monitor='val_accuracy',\n",
        "                             mode='max', verbose=1, save_best_only=True)\n",
        "\n",
        "    es = EarlyStopping(monitor='val_accuracy', mode='max',\n",
        "                       verbose=1, patience=patience)\n",
        "    sequential.fit(X_train, np.array(y_train), epochs=epochs, verbose=1,\n",
        "                   validation_data=(X_test, np.array(y_test)), callbacks=[es, mc])\n",
        "    sequential.load_weights('best_model.h5')\n",
        "    return sequential"
      ],
      "metadata": {
        "id": "7NMz22UomzlM"
      },
      "execution_count": null,
      "outputs": []
    },
    {
      "cell_type": "code",
      "source": [
        "vectorizer = TfidfVectorizer()\n",
        "def convert_sparse_matrix_to_sparse_tensor(X):\n",
        "    coo = X.tocoo()\n",
        "    indices = np.mat([coo.row, coo.col]).transpose()\n",
        "    return tf.sparse.reorder(tf.SparseTensor(indices, coo.data, coo.shape))\n",
        "X_train_vectorized = vectorizer.fit_transform(X_train).toarray()\n",
        "X_test_vectorized = vectorizer.transform(X_test).toarray()\n",
        "sequential = fit_sequential(X_train_vectorized, X_test_vectorized)"
      ],
      "metadata": {
        "colab": {
          "base_uri": "https://localhost:8080/"
        },
        "id": "4wJqCMfQm1Ht",
        "outputId": "1b278b24-2e94-49a4-afb9-175624d699fd"
      },
      "execution_count": null,
      "outputs": [
        {
          "output_type": "stream",
          "name": "stdout",
          "text": [
            "Epoch 1/20\n"
          ]
        },
        {
          "output_type": "stream",
          "name": "stderr",
          "text": [
            "/usr/local/lib/python3.7/dist-packages/tensorflow/python/util/dispatch.py:1082: UserWarning: \"`sparse_categorical_crossentropy` received `from_logits=True`, but the `output` argument was produced by a sigmoid or softmax activation and thus does not represent logits. Was this intended?\"\n",
            "  return dispatch_target(*args, **kwargs)\n"
          ]
        },
        {
          "output_type": "stream",
          "name": "stdout",
          "text": [
            "11/12 [==========================>...] - ETA: 0s - loss: 1.0822 - accuracy: 0.4347\n",
            "Epoch 1: val_accuracy improved from -inf to 0.46400, saving model to best_model.h5\n",
            "12/12 [==============================] - 1s 24ms/step - loss: 1.0801 - accuracy: 0.4397 - val_loss: 1.0696 - val_accuracy: 0.4640\n",
            "Epoch 2/20\n",
            "10/12 [========================>.....] - ETA: 0s - loss: 0.9878 - accuracy: 0.7156\n",
            "Epoch 2: val_accuracy improved from 0.46400 to 0.52800, saving model to best_model.h5\n",
            "12/12 [==============================] - 0s 11ms/step - loss: 0.9840 - accuracy: 0.7131 - val_loss: 1.0409 - val_accuracy: 0.5280\n",
            "Epoch 3/20\n",
            "10/12 [========================>.....] - ETA: 0s - loss: 0.8896 - accuracy: 0.8156\n",
            "Epoch 3: val_accuracy improved from 0.52800 to 0.56800, saving model to best_model.h5\n",
            "12/12 [==============================] - 0s 12ms/step - loss: 0.8841 - accuracy: 0.8257 - val_loss: 1.0073 - val_accuracy: 0.5680\n",
            "Epoch 4/20\n",
            "10/12 [========================>.....] - ETA: 0s - loss: 0.7836 - accuracy: 0.8813\n",
            "Epoch 4: val_accuracy improved from 0.56800 to 0.60800, saving model to best_model.h5\n",
            "12/12 [==============================] - 0s 11ms/step - loss: 0.7807 - accuracy: 0.8794 - val_loss: 0.9679 - val_accuracy: 0.6080\n",
            "Epoch 5/20\n",
            " 9/12 [=====================>........] - ETA: 0s - loss: 0.6855 - accuracy: 0.9132\n",
            "Epoch 5: val_accuracy did not improve from 0.60800\n",
            "12/12 [==============================] - 0s 9ms/step - loss: 0.6716 - accuracy: 0.9169 - val_loss: 0.9162 - val_accuracy: 0.6080\n",
            "Epoch 6/20\n",
            "11/12 [==========================>...] - ETA: 0s - loss: 0.5596 - accuracy: 0.9517\n",
            "Epoch 6: val_accuracy improved from 0.60800 to 0.62400, saving model to best_model.h5\n",
            "12/12 [==============================] - 0s 12ms/step - loss: 0.5607 - accuracy: 0.9517 - val_loss: 0.8735 - val_accuracy: 0.6240\n",
            "Epoch 7/20\n",
            "10/12 [========================>.....] - ETA: 0s - loss: 0.4588 - accuracy: 0.9688\n",
            "Epoch 7: val_accuracy improved from 0.62400 to 0.67200, saving model to best_model.h5\n",
            "12/12 [==============================] - 0s 11ms/step - loss: 0.4536 - accuracy: 0.9678 - val_loss: 0.8307 - val_accuracy: 0.6720\n",
            "Epoch 8/20\n",
            "12/12 [==============================] - ETA: 0s - loss: 0.3633 - accuracy: 0.9839\n",
            "Epoch 8: val_accuracy did not improve from 0.67200\n",
            "12/12 [==============================] - 0s 9ms/step - loss: 0.3633 - accuracy: 0.9839 - val_loss: 0.7937 - val_accuracy: 0.6560\n",
            "Epoch 9/20\n",
            "11/12 [==========================>...] - ETA: 0s - loss: 0.2936 - accuracy: 0.9858\n",
            "Epoch 9: val_accuracy improved from 0.67200 to 0.69600, saving model to best_model.h5\n",
            "12/12 [==============================] - 0s 11ms/step - loss: 0.2915 - accuracy: 0.9866 - val_loss: 0.7678 - val_accuracy: 0.6960\n",
            "Epoch 10/20\n",
            "11/12 [==========================>...] - ETA: 0s - loss: 0.2351 - accuracy: 0.9886\n",
            "Epoch 10: val_accuracy did not improve from 0.69600\n",
            "12/12 [==============================] - 0s 9ms/step - loss: 0.2335 - accuracy: 0.9893 - val_loss: 0.7524 - val_accuracy: 0.6880\n",
            "Epoch 11/20\n",
            "10/12 [========================>.....] - ETA: 0s - loss: 0.1948 - accuracy: 0.9875\n",
            "Epoch 11: val_accuracy did not improve from 0.69600\n",
            "12/12 [==============================] - 0s 9ms/step - loss: 0.1884 - accuracy: 0.9893 - val_loss: 0.7459 - val_accuracy: 0.6560\n",
            "Epoch 12/20\n",
            "10/12 [========================>.....] - ETA: 0s - loss: 0.1544 - accuracy: 0.9875\n",
            "Epoch 12: val_accuracy did not improve from 0.69600\n",
            "12/12 [==============================] - 0s 9ms/step - loss: 0.1525 - accuracy: 0.9893 - val_loss: 0.7416 - val_accuracy: 0.6560\n",
            "Epoch 13/20\n",
            "10/12 [========================>.....] - ETA: 0s - loss: 0.1329 - accuracy: 0.9875\n",
            "Epoch 13: val_accuracy did not improve from 0.69600\n",
            "12/12 [==============================] - 0s 9ms/step - loss: 0.1280 - accuracy: 0.9893 - val_loss: 0.7356 - val_accuracy: 0.6720\n",
            "Epoch 14/20\n",
            "11/12 [==========================>...] - ETA: 0s - loss: 0.1051 - accuracy: 0.9972\n",
            "Epoch 14: val_accuracy did not improve from 0.69600\n",
            "12/12 [==============================] - 0s 9ms/step - loss: 0.1049 - accuracy: 0.9946 - val_loss: 0.7328 - val_accuracy: 0.6720\n",
            "Epoch 14: early stopping\n"
          ]
        }
      ]
    },
    {
      "cell_type": "markdown",
      "metadata": {
        "id": "1HiLrp9SjsTX"
      },
      "source": [
        "# **Question 3: Create your own word embedding model**"
      ]
    },
    {
      "cell_type": "markdown",
      "metadata": {
        "id": "BaPXDn0HjsTX"
      },
      "source": [
        "(20 points). Use the data you collected for assignment two to build a word embedding model: \n",
        "\n",
        "(1) Train a 300-dimension word embedding (it can be word2vec, glove, ulmfit, bert, or others).\n",
        "\n",
        "(2) Visualize the word embedding model you created.\n",
        "\n",
        "Reference: https://machinelearningmastery.com/develop-word-embeddings-python-gensim/\n",
        "\n",
        "Reference: https://jaketae.github.io/study/word2vec/"
      ]
    },
    {
      "cell_type": "code",
      "execution_count": null,
      "metadata": {
        "id": "Z7cvYavUjsTX"
      },
      "outputs": [],
      "source": [
        "class W2VTransformer(BaseEstimator, TransformerMixin):\n",
        "    def __init__(self, size):\n",
        "        self.size = size\n",
        "        pass\n",
        "\n",
        "    def fit(self, X, y=None):\n",
        "        self.model = Word2Vec(min_count=1,\n",
        "                              window=2,\n",
        "                              size=self.size,\n",
        "                              sample=6e-5,\n",
        "                              alpha=0.03,\n",
        "                              min_alpha=0.0007,\n",
        "                              negative=20)\n",
        "        sentences = [row.split() for row in X]\n",
        "\n",
        "        self.model.build_vocab(sentences)\n",
        "        self.model.train(\n",
        "            sentences, total_examples=self.model.corpus_count, epochs=self.model.epochs)\n",
        "        return self\n",
        "\n",
        "    def get_vector(self, sentence):\n",
        "        relevant_words_vectors = [self.model.wv[x]\n",
        "                                  for x in sentence.split() if x in self.model.wv.vocab]\n",
        "        if not relevant_words_vectors:\n",
        "            return np.zeros(self.model.vector_size)  # .astype('float32')\n",
        "        return np.mean(relevant_words_vectors, axis=0)\n",
        "\n",
        "    def transform(self, X):\n",
        "        arr = np.array([])\n",
        "        for elem in X:\n",
        "            arr = np.concatenate([arr, self.get_vector(elem)])\n",
        "        return arr.reshape(-1, self.size)"
      ]
    },
    {
      "cell_type": "code",
      "source": [
        "vectorizer = W2VTransformer(4)\n",
        "X_train_vectorized = vectorizer.fit_transform(X_train)\n",
        "X_test_vectorized = vectorizer.transform(X_test)"
      ],
      "metadata": {
        "colab": {
          "base_uri": "https://localhost:8080/"
        },
        "id": "b6CIKgFDnF5r",
        "outputId": "082f254d-2f71-45b2-fb2f-5ccc76b0736f"
      },
      "execution_count": null,
      "outputs": [
        {
          "output_type": "stream",
          "name": "stderr",
          "text": [
            "WARNING:gensim.models.base_any2vec:under 10 jobs per worker: consider setting a smaller `batch_words' for smoother alpha decay\n"
          ]
        }
      ]
    },
    {
      "cell_type": "code",
      "source": [
        "sequential = fit_sequential(X_train_vectorized, X_test_vectorized)"
      ],
      "metadata": {
        "colab": {
          "base_uri": "https://localhost:8080/"
        },
        "id": "JzQLBR78kA3n",
        "outputId": "06e892c0-ab53-4093-cd25-9e412f982140"
      },
      "execution_count": null,
      "outputs": [
        {
          "output_type": "stream",
          "name": "stdout",
          "text": [
            "Epoch 1/20\n",
            " 1/12 [=>............................] - ETA: 4s - loss: 1.1002 - accuracy: 0.2188\n",
            "Epoch 1: val_accuracy improved from -inf to 0.32800, saving model to best_model.h5\n",
            "12/12 [==============================] - 1s 21ms/step - loss: 1.0957 - accuracy: 0.3592 - val_loss: 1.1036 - val_accuracy: 0.3280\n",
            "Epoch 2/20\n",
            " 1/12 [=>............................] - ETA: 0s - loss: 1.0854 - accuracy: 0.5000\n",
            "Epoch 2: val_accuracy did not improve from 0.32800\n",
            "12/12 [==============================] - 0s 7ms/step - loss: 1.0865 - accuracy: 0.3807 - val_loss: 1.1127 - val_accuracy: 0.3280\n",
            "Epoch 3/20\n",
            " 1/12 [=>............................] - ETA: 0s - loss: 1.0770 - accuracy: 0.4062\n",
            "Epoch 3: val_accuracy did not improve from 0.32800\n",
            "12/12 [==============================] - 0s 7ms/step - loss: 1.0827 - accuracy: 0.3807 - val_loss: 1.1223 - val_accuracy: 0.3120\n",
            "Epoch 4/20\n",
            " 1/12 [=>............................] - ETA: 0s - loss: 1.0247 - accuracy: 0.5938\n",
            "Epoch 4: val_accuracy did not improve from 0.32800\n",
            "12/12 [==============================] - 0s 6ms/step - loss: 1.0806 - accuracy: 0.3914 - val_loss: 1.1271 - val_accuracy: 0.3120\n",
            "Epoch 5/20\n",
            " 1/12 [=>............................] - ETA: 0s - loss: 1.0459 - accuracy: 0.5000\n",
            "Epoch 5: val_accuracy improved from 0.32800 to 0.34400, saving model to best_model.h5\n",
            "12/12 [==============================] - 0s 8ms/step - loss: 1.0789 - accuracy: 0.3968 - val_loss: 1.1306 - val_accuracy: 0.3440\n",
            "Epoch 6/20\n",
            " 1/12 [=>............................] - ETA: 0s - loss: 1.1075 - accuracy: 0.4688\n",
            "Epoch 6: val_accuracy improved from 0.34400 to 0.39200, saving model to best_model.h5\n",
            "12/12 [==============================] - 0s 7ms/step - loss: 1.0792 - accuracy: 0.3861 - val_loss: 1.1298 - val_accuracy: 0.3920\n",
            "Epoch 7/20\n",
            " 1/12 [=>............................] - ETA: 0s - loss: 1.1324 - accuracy: 0.4062\n",
            "Epoch 7: val_accuracy did not improve from 0.39200\n",
            "12/12 [==============================] - 0s 5ms/step - loss: 1.0780 - accuracy: 0.4048 - val_loss: 1.1298 - val_accuracy: 0.3840\n",
            "Epoch 8/20\n",
            " 1/12 [=>............................] - ETA: 0s - loss: 1.0506 - accuracy: 0.5625\n",
            "Epoch 8: val_accuracy did not improve from 0.39200\n",
            "12/12 [==============================] - 0s 7ms/step - loss: 1.0770 - accuracy: 0.4048 - val_loss: 1.1306 - val_accuracy: 0.3120\n",
            "Epoch 9/20\n",
            " 1/12 [=>............................] - ETA: 0s - loss: 1.0958 - accuracy: 0.4688\n",
            "Epoch 9: val_accuracy did not improve from 0.39200\n",
            "12/12 [==============================] - 0s 5ms/step - loss: 1.0774 - accuracy: 0.4155 - val_loss: 1.1302 - val_accuracy: 0.3120\n",
            "Epoch 10/20\n",
            " 1/12 [=>............................] - ETA: 0s - loss: 1.0840 - accuracy: 0.3125\n",
            "Epoch 10: val_accuracy did not improve from 0.39200\n",
            "12/12 [==============================] - 0s 6ms/step - loss: 1.0762 - accuracy: 0.4504 - val_loss: 1.1282 - val_accuracy: 0.3120\n",
            "Epoch 11/20\n",
            " 1/12 [=>............................] - ETA: 0s - loss: 1.0900 - accuracy: 0.3438\n",
            "Epoch 11: val_accuracy did not improve from 0.39200\n",
            "12/12 [==============================] - 0s 5ms/step - loss: 1.0756 - accuracy: 0.4343 - val_loss: 1.1314 - val_accuracy: 0.3120\n",
            "Epoch 11: early stopping\n"
          ]
        }
      ]
    },
    {
      "cell_type": "code",
      "source": [
        "pca = PCA(n_components=2)\n",
        "X_train_vectorized_2d = pca.fit_transform(X_train_vectorized)"
      ],
      "metadata": {
        "id": "ygjw4Aa5lu9A"
      },
      "execution_count": null,
      "outputs": []
    },
    {
      "cell_type": "code",
      "source": [
        "plt.figure(figsize=(14, 8))\n",
        "_ = sns.scatterplot(\n",
        "    X_train_vectorized_2d[:, 0], X_train_vectorized_2d[:, 1], hue=y_train)"
      ],
      "metadata": {
        "colab": {
          "base_uri": "https://localhost:8080/",
          "height": 483
        },
        "id": "9BQqy4QPlw1u",
        "outputId": "4e3773b3-2c7d-4e7a-bdcf-ee757c587fb9"
      },
      "execution_count": null,
      "outputs": [
        {
          "output_type": "display_data",
          "data": {
            "text/plain": [
              "<Figure size 1008x576 with 1 Axes>"
            ],
            "image/png": "[encoded data removed]"
          },
          "metadata": {
            "needs_background": "light"
          }
        }
      ]
    },
    {
      "cell_type": "markdown",
      "metadata": {
        "id": "E5mmYIfN8eYV"
      },
      "source": [
        "# **Question 4: Create your own training and evaluation data for sentiment analysis**"
      ]
    },
    {
      "cell_type": "markdown",
      "metadata": {
        "id": "hsi2y4z88ngX"
      },
      "source": [
        "(15 points). **You dodn't need to write program for this question!** Read each review (abstract or tweet) you collected in detail, and annotate each review with a sentiment (positive, negative, or neutral). Save the annotated dataset into a csv file with three columns (first column: document_id, clean_text, sentiment), upload the csv file to GitHub and submit the file link blew. This datset will be used for assignment four: sentiment analysis and text classification. \n"
      ]
    },
    {
      "cell_type": "code",
      "execution_count": null,
      "metadata": {
        "colab": {
          "base_uri": "https://localhost:8080/"
        },
        "id": "XfvMKJjIXS5G",
        "outputId": "66f24f4f-f10d-466d-970a-8f60eb82f5cd"
      },
      "outputs": [
        {
          "output_type": "stream",
          "name": "stderr",
          "text": [
            "Some weights of the model checkpoint at distilbert-base-uncased were not used when initializing DistilBertModel: ['vocab_layer_norm.bias', 'vocab_projector.bias', 'vocab_projector.weight', 'vocab_layer_norm.weight', 'vocab_transform.weight', 'vocab_transform.bias']\n",
            "- This IS expected if you are initializing DistilBertModel from the checkpoint of a model trained on another task or with another architecture (e.g. initializing a BertForSequenceClassification model from a BertForPreTraining model).\n",
            "- This IS NOT expected if you are initializing DistilBertModel from the checkpoint of a model that you expect to be exactly identical (initializing a BertForSequenceClassification model from a BertForSequenceClassification model).\n"
          ]
        }
      ],
      "source": [
        "\n",
        "model_class, tokenizer_class, pretrained_weights = (\n",
        "    transformers.DistilBertModel, transformers.DistilBertTokenizer, 'distilbert-base-uncased')\n",
        "tokenizer = tokenizer_class.from_pretrained(pretrained_weights)\n",
        "model = model_class.from_pretrained(pretrained_weights)\n",
        "\n",
        "\n",
        "\n",
        "\n"
      ]
    },
    {
      "cell_type": "code",
      "source": [
        "def get_vectors():\n",
        "    start = time.time()\n",
        "    k = 1000\n",
        "    for i in range(0, len(all_sentences), k):\n",
        "        with torch.no_grad():\n",
        "            last_hidden_states = model(\n",
        "                input_ids[i:i+k], attention_mask=input_ids[i:i+k])\n",
        "        vectors = np.concatenate([vectors, last_hidden_states[0].numpy(\n",
        "        )[:, 0, :]]) if i > 0 else last_hidden_states[0].numpy()[:, 0, :]\n",
        "    return vectors"
      ],
      "metadata": {
        "id": "4cIHYZolngsa"
      },
      "execution_count": null,
      "outputs": []
    },
    {
      "cell_type": "code",
      "source": [
        "sequential = fit_sequential(X_train_vectorized, X_test_vectorized, epochs=10)"
      ],
      "metadata": {
        "colab": {
          "base_uri": "https://localhost:8080/"
        },
        "id": "-VfP6T5WnnU-",
        "outputId": "28f2e5ab-0827-421f-893a-960a8df7829c"
      },
      "execution_count": null,
      "outputs": [
        {
          "output_type": "stream",
          "name": "stdout",
          "text": [
            "Epoch 1/10\n"
          ]
        },
        {
          "output_type": "stream",
          "name": "stderr",
          "text": [
            "/usr/local/lib/python3.7/dist-packages/tensorflow/python/util/dispatch.py:1082: UserWarning: \"`sparse_categorical_crossentropy` received `from_logits=True`, but the `output` argument was produced by a sigmoid or softmax activation and thus does not represent logits. Was this intended?\"\n",
            "  return dispatch_target(*args, **kwargs)\n"
          ]
        },
        {
          "output_type": "stream",
          "name": "stdout",
          "text": [
            " 8/12 [===================>..........] - ETA: 0s - loss: 1.0969 - accuracy: 0.3438 \n",
            "Epoch 1: val_accuracy improved from -inf to 0.32800, saving model to best_model.h5\n",
            "12/12 [==============================] - 2s 53ms/step - loss: 1.0954 - accuracy: 0.3405 - val_loss: 1.1081 - val_accuracy: 0.3280\n",
            "Epoch 2/10\n",
            " 1/12 [=>............................] - ETA: 0s - loss: 1.0782 - accuracy: 0.3125\n",
            "Epoch 2: val_accuracy did not improve from 0.32800\n",
            "12/12 [==============================] - 0s 9ms/step - loss: 1.0878 - accuracy: 0.3887 - val_loss: 1.1158 - val_accuracy: 0.3120\n",
            "Epoch 3/10\n",
            " 1/12 [=>............................] - ETA: 0s - loss: 1.0701 - accuracy: 0.5000\n",
            "Epoch 3: val_accuracy did not improve from 0.32800\n",
            "12/12 [==============================] - 0s 8ms/step - loss: 1.0838 - accuracy: 0.3780 - val_loss: 1.1238 - val_accuracy: 0.3280\n",
            "Epoch 4/10\n",
            " 1/12 [=>............................] - ETA: 0s - loss: 1.0690 - accuracy: 0.4375\n",
            "Epoch 4: val_accuracy improved from 0.32800 to 0.33600, saving model to best_model.h5\n",
            "12/12 [==============================] - 0s 12ms/step - loss: 1.0812 - accuracy: 0.3753 - val_loss: 1.1272 - val_accuracy: 0.3360\n",
            "Epoch 5/10\n",
            " 7/12 [================>.............] - ETA: 0s - loss: 1.0753 - accuracy: 0.4286\n",
            "Epoch 5: val_accuracy did not improve from 0.33600\n",
            "12/12 [==============================] - 0s 16ms/step - loss: 1.0799 - accuracy: 0.4048 - val_loss: 1.1292 - val_accuracy: 0.3040\n",
            "Epoch 6/10\n",
            " 9/12 [=====================>........] - ETA: 0s - loss: 1.0815 - accuracy: 0.3854\n",
            "Epoch 6: val_accuracy did not improve from 0.33600\n",
            "12/12 [==============================] - 0s 11ms/step - loss: 1.0808 - accuracy: 0.3861 - val_loss: 1.1300 - val_accuracy: 0.3280\n",
            "Epoch 7/10\n",
            " 8/12 [===================>..........] - ETA: 0s - loss: 1.0825 - accuracy: 0.3867\n",
            "Epoch 7: val_accuracy did not improve from 0.33600\n",
            "12/12 [==============================] - 0s 11ms/step - loss: 1.0791 - accuracy: 0.4048 - val_loss: 1.1317 - val_accuracy: 0.3360\n",
            "Epoch 8/10\n",
            "11/12 [==========================>...] - ETA: 0s - loss: 1.0767 - accuracy: 0.4375\n",
            "Epoch 8: val_accuracy did not improve from 0.33600\n",
            "12/12 [==============================] - 0s 12ms/step - loss: 1.0787 - accuracy: 0.4397 - val_loss: 1.1370 - val_accuracy: 0.3200\n",
            "Epoch 9/10\n",
            " 1/12 [=>............................] - ETA: 0s - loss: 1.1052 - accuracy: 0.3750\n",
            "Epoch 9: val_accuracy did not improve from 0.33600\n",
            "12/12 [==============================] - 0s 9ms/step - loss: 1.0772 - accuracy: 0.4102 - val_loss: 1.1351 - val_accuracy: 0.2960\n",
            "Epoch 9: early stopping\n"
          ]
        }
      ]
    },
    {
      "cell_type": "code",
      "source": [
        "vectorizer = W2VTransformer(4)\n",
        "X_train_vectorized = vectorizer.fit_transform(X_train)\n",
        "X_test_vectorized = vectorizer.transform(X_test)\n",
        "sequential = fit_sequential(X_train_vectorized, X_test_vectorized)\n",
        "mapper = {0: \"negative\", 1: \"neutral\", 2: \"positive\"}\n",
        "\n",
        "\n",
        "def get_sentiment(model, vectorizer, mapper, text):\n",
        "    return mapper.get(np.argmax(max(model.predict(vectorizer.transform(pd.Series([text]))))))"
      ],
      "metadata": {
        "colab": {
          "base_uri": "https://localhost:8080/"
        },
        "id": "TViS9k14nu4q",
        "outputId": "79ae1f43-89c2-4ad2-9949-a1658c004747"
      },
      "execution_count": null,
      "outputs": [
        {
          "output_type": "stream",
          "name": "stderr",
          "text": [
            "WARNING:gensim.models.base_any2vec:under 10 jobs per worker: consider setting a smaller `batch_words' for smoother alpha decay\n"
          ]
        },
        {
          "output_type": "stream",
          "name": "stdout",
          "text": [
            "Epoch 1/20\n",
            " 9/12 [=====================>........] - ETA: 0s - loss: 1.0948 - accuracy: 0.3438 \n",
            "Epoch 1: val_accuracy improved from -inf to 0.36800, saving model to best_model.h5\n",
            "12/12 [==============================] - 2s 84ms/step - loss: 1.0931 - accuracy: 0.3727 - val_loss: 1.1029 - val_accuracy: 0.3680\n",
            "Epoch 2/20\n",
            "11/12 [==========================>...] - ETA: 0s - loss: 1.0875 - accuracy: 0.3665\n",
            "Epoch 2: val_accuracy did not improve from 0.36800\n",
            "12/12 [==============================] - 0s 12ms/step - loss: 1.0858 - accuracy: 0.3700 - val_loss: 1.1097 - val_accuracy: 0.3360\n",
            "Epoch 3/20\n",
            " 9/12 [=====================>........] - ETA: 0s - loss: 1.0758 - accuracy: 0.4167\n",
            "Epoch 3: val_accuracy improved from 0.36800 to 0.38400, saving model to best_model.h5\n",
            "12/12 [==============================] - 0s 32ms/step - loss: 1.0827 - accuracy: 0.3968 - val_loss: 1.1196 - val_accuracy: 0.3840\n",
            "Epoch 4/20\n",
            "10/12 [========================>.....] - ETA: 0s - loss: 1.0789 - accuracy: 0.3750\n",
            "Epoch 4: val_accuracy did not improve from 0.38400\n",
            "12/12 [==============================] - 0s 18ms/step - loss: 1.0809 - accuracy: 0.3619 - val_loss: 1.1234 - val_accuracy: 0.3600\n",
            "Epoch 5/20\n",
            " 7/12 [================>.............] - ETA: 0s - loss: 1.0653 - accuracy: 0.4643\n",
            "Epoch 5: val_accuracy did not improve from 0.38400\n",
            "12/12 [==============================] - 0s 21ms/step - loss: 1.0798 - accuracy: 0.4075 - val_loss: 1.1282 - val_accuracy: 0.3680\n",
            "Epoch 6/20\n",
            " 8/12 [===================>..........] - ETA: 0s - loss: 1.0771 - accuracy: 0.3711\n",
            "Epoch 6: val_accuracy did not improve from 0.38400\n",
            "12/12 [==============================] - 0s 20ms/step - loss: 1.0778 - accuracy: 0.3995 - val_loss: 1.1266 - val_accuracy: 0.3600\n",
            "Epoch 7/20\n",
            "12/12 [==============================] - ETA: 0s - loss: 1.0771 - accuracy: 0.4182\n",
            "Epoch 7: val_accuracy did not improve from 0.38400\n",
            "12/12 [==============================] - 0s 23ms/step - loss: 1.0771 - accuracy: 0.4182 - val_loss: 1.1255 - val_accuracy: 0.3280\n",
            "Epoch 8/20\n",
            "11/12 [==========================>...] - ETA: 0s - loss: 1.0798 - accuracy: 0.4205\n",
            "Epoch 8: val_accuracy did not improve from 0.38400\n",
            "12/12 [==============================] - 0s 25ms/step - loss: 1.0767 - accuracy: 0.4343 - val_loss: 1.1283 - val_accuracy: 0.3520\n",
            "Epoch 8: early stopping\n"
          ]
        }
      ]
    },
    {
      "cell_type": "code",
      "source": [
        "get_sentiment(sequential, vectorizer, mapper, \"The new big one is huge\")"
      ],
      "metadata": {
        "colab": {
          "base_uri": "https://localhost:8080/",
          "height": 53
        },
        "id": "5FrWsK56nwGJ",
        "outputId": "9c60d6a3-2d13-407a-fdfb-58c28fe48a45"
      },
      "execution_count": null,
      "outputs": [
        {
          "output_type": "stream",
          "name": "stdout",
          "text": [
            "1/1 [==============================] - 0s 87ms/step\n"
          ]
        },
        {
          "output_type": "execute_result",
          "data": {
            "text/plain": [
              "'positive'"
            ],
            "application/vnd.google.colaboratory.intrinsic+json": {
              "type": "string"
            }
          },
          "metadata": {},
          "execution_count": 69
        }
      ]
    },
    {
      "cell_type": "code",
      "source": [
        "#link \n",
        "https://github.com/kavyamannam/haihua_INFO5731_Spring2020/blob/main/twitter.csv\n"
      ],
      "metadata": {
        "id": "5zvxmmH4qsY-"
      },
      "execution_count": null,
      "outputs": []
    }
  ],
  "metadata": {
    "colab": {
      "provenance": [],
      "include_colab_link": true
    },
    "kernelspec": {
      "display_name": "Python 3 (ipykernel)",
      "language": "python",
      "name": "python3"
    },
    "language_info": {
      "codemirror_mode": {
        "name": "ipython",
        "version": 3
      },
      "file_extension": ".py",
      "mimetype": "text/x-python",
      "name": "python",
      "nbconvert_exporter": "python",
      "pygments_lexer": "ipython3",
      "version": "3.9.12"
    }
  },
  "nbformat": 4,
  "nbformat_minor": 0
}