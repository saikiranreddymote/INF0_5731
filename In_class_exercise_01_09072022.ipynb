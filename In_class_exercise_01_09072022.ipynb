{
  "cells": [
    {
      "cell_type": "markdown",
      "metadata": {
        "id": "view-in-github",
        "colab_type": "text"
      },
      "source": [
        "<a href=\"https://colab.research.google.com/github/saikiranreddymote/INF0_5731/blob/main/In_class_exercise_01_09072022.ipynb\" target=\"_parent\"><img src=\"https://colab.research.google.com/assets/colab-badge.svg\" alt=\"Open In Colab\"/></a>"
      ]
    },
    {
      "cell_type": "markdown",
      "metadata": {
        "id": "DymRJbxDBCnf"
      },
      "source": [
        "# **The first In-class-exercise (09/07/2022, 40 points in total)**"
      ]
    },
    {
      "cell_type": "markdown",
      "metadata": {
        "id": "03jb4GZsBkBS"
      },
      "source": [
        "(1) Write a Python program to calculate the length of a string. (4 points)"
      ]
    },
    {
      "cell_type": "code",
      "execution_count": null,
      "metadata": {
        "id": "YaGLbSHHB8Ej",
        "outputId": "7c3daeb6-c831-4a87-ec70-b0dc9be2424d"
      },
      "outputs": [
        {
          "name": "stdout",
          "output_type": "stream",
          "text": [
            "8\n"
          ]
        }
      ],
      "source": [
        "# write your answer here\n",
        "def len_count(str):\n",
        "    print(len(str))\n",
        "ex = \"Harshith\"\n",
        "len_count(ex)"
      ]
    },
    {
      "cell_type": "markdown",
      "metadata": {
        "id": "jJDe71iLB616"
      },
      "source": [
        "(2) Write a Python program to count the number of characters in a string. (4 points)\n",
        "\n",
        "Sample String : 'google.com‘, \n",
        "\n",
        "Expected Result : {'o': 3, 'g': 2, '.': 1, 'e': 1, 'l': 1, 'm': 1, 'c': 1}"
      ]
    },
    {
      "cell_type": "code",
      "execution_count": null,
      "metadata": {
        "id": "MtKskTzbCLaU",
        "outputId": "afc7df87-c84c-4310-aa95-3ab4282b6fa3"
      },
      "outputs": [
        {
          "name": "stdout",
          "output_type": "stream",
          "text": [
            "{'g': 2, 'o': 3, 'l': 1, 'e': 1, '.': 1, 'c': 1, 'm': 1}\n"
          ]
        }
      ],
      "source": [
        "# write your answer here\n",
        "ex = \"google.com\"\n",
        "\n",
        "def count_char(str):\n",
        "    res = {}\n",
        "    for i in str:\n",
        "        if i in res:\n",
        "            res[i] += 1\n",
        "        else:\n",
        "            res[i] = 1\n",
        "    print(res)\n",
        "    \n",
        "count_char(ex)"
      ]
    },
    {
      "cell_type": "markdown",
      "metadata": {
        "id": "55W9AMdXCSpV"
      },
      "source": [
        "(3) Write a Python program to sum all the items in a list. (4 points)"
      ]
    },
    {
      "cell_type": "code",
      "execution_count": null,
      "metadata": {
        "id": "I57NXsauCec2",
        "outputId": "86a8aa00-787c-4f46-c8ab-5c04ac3c9668"
      },
      "outputs": [
        {
          "name": "stdout",
          "output_type": "stream",
          "text": [
            "55\n"
          ]
        }
      ],
      "source": [
        "# write your answer here\n",
        "ex = list(range(1,11))\n",
        "\n",
        "def count_sum(nums):\n",
        "    sum = 0\n",
        "    for i in nums:\n",
        "        sum+=i\n",
        "    print(sum)\n",
        "    \n",
        "count_sum(ex)"
      ]
    },
    {
      "cell_type": "markdown",
      "metadata": {
        "id": "4ulBZ6yhCi9F"
      },
      "source": [
        "(4) Write a Python program to get a string from a given string where all occurrences of its first char have been changed to '\\$', except the first char itself. (4 points)\n",
        "\n",
        "Sample String : 'restart‘, \n",
        "\n",
        "Expected Result : 'resta\\$t'"
      ]
    },
    {
      "cell_type": "code",
      "execution_count": null,
      "metadata": {
        "id": "Fj0XhwbBCw2o",
        "outputId": "f1868e95-71c1-4612-dd2a-8a6e257dc6b9"
      },
      "outputs": [
        {
          "name": "stdout",
          "output_type": "stream",
          "text": [
            "resta$t\n"
          ]
        }
      ],
      "source": [
        "# write your answer here\n",
        "def change(str):\n",
        "    res = str[0] + str[1:].replace(str[0],'$')\n",
        "    return res\n",
        "\n",
        "str1 = \"restart\"\n",
        "print(change(str1))"
      ]
    },
    {
      "cell_type": "markdown",
      "metadata": {
        "id": "_bIP7s1MCzue"
      },
      "source": [
        "(5) Write a program with python which could accept two parameter a and b to calculate and output the result of S, where \n",
        "\n",
        "$\\ S=3.14*(1+a/b)^3$ (4 points)\n",
        "\n"
      ]
    },
    {
      "cell_type": "code",
      "execution_count": null,
      "metadata": {
        "id": "w79QilHXD3Mg",
        "outputId": "74fc23ef-18e3-4a80-a511-449001391ea2"
      },
      "outputs": [
        {
          "data": {
            "text/plain": [
              "25.12"
            ]
          },
          "execution_count": 5,
          "metadata": {},
          "output_type": "execute_result"
        }
      ],
      "source": [
        "# write your answer here\n",
        "def formula(a,b):\n",
        "    s1 = pow(1+a/b , 3)\n",
        "    s = 3.14*s1\n",
        "    return s\n",
        "\n",
        "formula(3,3)"
      ]
    },
    {
      "cell_type": "markdown",
      "metadata": {
        "id": "xCa2bK9aD4Q3"
      },
      "source": [
        "(6) Write a Python program to concatenate following dictionaries to create a new one. (4 points)\n",
        "\n",
        "Sample Dictionary : dic1={1:10, 2:20}, dic2={3:30, 4:40}, dic3={5:50,6:60}, \n",
        "\n",
        "Expected Result : {1: 10, 2: 20, 3: 30, 4: 40, 5: 50, 6: 60}\n"
      ]
    },
    {
      "cell_type": "code",
      "execution_count": null,
      "metadata": {
        "id": "_z4aLqAbEET1",
        "outputId": "9143c179-9763-4f6c-ef2d-f084b4886dc9"
      },
      "outputs": [
        {
          "name": "stdout",
          "output_type": "stream",
          "text": [
            "{'1': 10, '2': 20, '3': 30, '4': 40, '5': 50, '6': 60}\n"
          ]
        }
      ],
      "source": [
        "# write your answer here\n",
        "dic1 = {'1':10, '2':20}\n",
        "dic2 = {'3':30, '4':40}\n",
        "dic3 = {'5':50, '6':60}\n",
        "\n",
        "res = dic1 | dic2 | dic3\n",
        "print(res)"
      ]
    },
    {
      "cell_type": "markdown",
      "metadata": {
        "id": "0v48Vqa7FrQh"
      },
      "source": [
        "(7) Write a Python program to check whether an element exists within a tuple. (4 points)"
      ]
    },
    {
      "cell_type": "code",
      "execution_count": null,
      "metadata": {
        "id": "7WEmgq-DF2P1",
        "outputId": "ecb259f9-5a42-47be-c295-837763dc0edd"
      },
      "outputs": [
        {
          "name": "stdout",
          "output_type": "stream",
          "text": [
            "True\n",
            "False\n"
          ]
        }
      ],
      "source": [
        "# write your answer here\n",
        "def check_tuple(tup,x):\n",
        "    res = x in tup\n",
        "    print(res)\n",
        "\n",
        "ex_tup = (1,2,3,4,5)\n",
        "n = 4\n",
        "check_tuple(ex_tup,n)\n",
        "n = 6\n",
        "check_tuple(ex_tup,n)"
      ]
    },
    {
      "cell_type": "markdown",
      "metadata": {
        "id": "vD5PYLMuGga_"
      },
      "source": [
        "(8) Write a Python program to find maximum and the minimum value in a set. (4 points)"
      ]
    },
    {
      "cell_type": "code",
      "execution_count": null,
      "metadata": {
        "id": "t0D5kdJUGjjw",
        "outputId": "87d7bbda-52dd-4122-aad1-670e20c6aeec"
      },
      "outputs": [
        {
          "name": "stdout",
          "output_type": "stream",
          "text": [
            "maximum value of set is  5\n",
            "minimum value of set is  1\n"
          ]
        }
      ],
      "source": [
        "# write your answer here\n",
        "def max_min(set1):\n",
        "    print(\"maximum value of set is \" , max(set1))\n",
        "    print(\"minimum value of set is \" , min(set1))\n",
        "    \n",
        "ex = {1,2,3,4,5}\n",
        "max_min(ex)"
      ]
    },
    {
      "cell_type": "markdown",
      "metadata": {
        "id": "uHkd-y5VhVWC"
      },
      "source": [
        "(9) Write a Python program to randomly divide the students in this class into six groups for term projects, each group should have at least 4 students but no more than 6 students (including 6). Here is the students list: (4 points)\n",
        "\n",
        "studnet_list = ['ja0964','sa1198','sb1357','vb0218','sc1229','kg0569','kg0470','sg1297','bg0320','fh0141','jl1252','sk1386',\n",
        "           'ak0956','sk1390','sk1458','sk1313','ak0934','vm0377','nm0618','sm1640','sm1907','gn0108','pr0353','dr0609','ms1500','aos0040','ds0814', 'av0659','nv0234','hy0232']"
      ]
    },
    {
      "cell_type": "code",
      "execution_count": null,
      "metadata": {
        "id": "3iGbmcOBhTwy",
        "outputId": "3f7d2a30-ba5f-4664-8f85-a13ee3426be8"
      },
      "outputs": [
        {
          "name": "stdout",
          "output_type": "stream",
          "text": [
            "['nm0618', 'sk1386', 'ds0814', 'aos0040', 'sk1458']\n",
            "['fh0141', 'av0659', 'sa1198', 'sm1907', 'sk1313']\n",
            "['ak0956', 'bg0320', 'sk1390', 'pr0353', 'ak0934']\n",
            "['kg0470', 'sg1297', 'kg0569', 'vb0218', 'dr0609']\n",
            "['jl1252', 'ms1500', 'nv0234', 'sm1640', 'vm0377']\n",
            "['sc1229', 'ja0964', 'sb1357', 'hy0232', 'gn0108']\n"
          ]
        }
      ],
      "source": [
        "# write your answer here\n",
        "import random\n",
        "\n",
        "def partition_list(stu_list,n):\n",
        "    random.shuffle(stu_list)\n",
        "    return [stu_list[i::n] for i in range(n)]\n",
        "\n",
        "student_list = ['ja0964','sa1198','sb1357','vb0218','sc1229','kg0569','kg0470','sg1297','bg0320','fh0141','jl1252','sk1386', 'ak0956','sk1390','sk1458','sk1313','ak0934','vm0377','nm0618','sm1640','sm1907','gn0108','pr0353','dr0609','ms1500','aos0040','ds0814', 'av0659','nv0234','hy0232']\n",
        "\n",
        "ex = partition_list(student_list,6)\n",
        "\n",
        "for i in ex:\n",
        "    print(i)"
      ]
    },
    {
      "cell_type": "markdown",
      "metadata": {
        "id": "1PHJsR1JlZdo"
      },
      "source": [
        "(10) Write a Python program to find the duplicate elements in a given array of integers. Return -1 If there are no such elements. (4 points)"
      ]
    },
    {
      "cell_type": "code",
      "execution_count": null,
      "metadata": {
        "id": "ysr1ZnAClZdo",
        "outputId": "9fde6f9b-ca67-4c24-c586-03d07eb9e29c"
      },
      "outputs": [
        {
          "name": "stdout",
          "output_type": "stream",
          "text": [
            "[2, 3]\n"
          ]
        },
        {
          "data": {
            "text/plain": [
              "-1"
            ]
          },
          "execution_count": 10,
          "metadata": {},
          "output_type": "execute_result"
        }
      ],
      "source": [
        "# write your answer here\n",
        "def find_dup(array):\n",
        "    dup_array = []\n",
        "    \n",
        "    for i in array:\n",
        "        if array.count(i)>1 and i not in dup_array:\n",
        "            dup_array.append(i)\n",
        "    \n",
        "    if len(dup_array) > 0:\n",
        "        print(dup_array)\n",
        "    else:\n",
        "        return -1\n",
        "\n",
        "    \n",
        "arr = [1,2,3,4,3,8,2]\n",
        "find_dup(arr)\n",
        "\n",
        "arr= [1,2,3]\n",
        "find_dup(arr)"
      ]
    },
    {
      "cell_type": "markdown",
      "metadata": {
        "id": "C1a8xP3dlZdp"
      },
      "source": [
        "(11) Write a Python program to select all the Sundays of a specified year. (4 extra points)"
      ]
    },
    {
      "cell_type": "code",
      "execution_count": null,
      "metadata": {
        "id": "s4jC2w43lZdp",
        "outputId": "46bd4d7f-7af2-4600-ff8f-452e590898ef"
      },
      "outputs": [
        {
          "name": "stdout",
          "output_type": "stream",
          "text": [
            "2020-01-05\n",
            "2020-01-12\n",
            "2020-01-19\n",
            "2020-01-26\n",
            "2020-02-02\n",
            "2020-02-09\n",
            "2020-02-16\n",
            "2020-02-23\n",
            "2020-03-01\n",
            "2020-03-08\n",
            "2020-03-15\n",
            "2020-03-22\n",
            "2020-03-29\n",
            "2020-04-05\n",
            "2020-04-12\n",
            "2020-04-19\n",
            "2020-04-26\n",
            "2020-05-03\n",
            "2020-05-10\n",
            "2020-05-17\n",
            "2020-05-24\n",
            "2020-05-31\n",
            "2020-06-07\n",
            "2020-06-14\n",
            "2020-06-21\n",
            "2020-06-28\n",
            "2020-07-05\n",
            "2020-07-12\n",
            "2020-07-19\n",
            "2020-07-26\n",
            "2020-08-02\n",
            "2020-08-09\n",
            "2020-08-16\n",
            "2020-08-23\n",
            "2020-08-30\n",
            "2020-09-06\n",
            "2020-09-13\n",
            "2020-09-20\n",
            "2020-09-27\n",
            "2020-10-04\n",
            "2020-10-11\n",
            "2020-10-18\n",
            "2020-10-25\n",
            "2020-11-01\n",
            "2020-11-08\n",
            "2020-11-15\n",
            "2020-11-22\n",
            "2020-11-29\n",
            "2020-12-06\n",
            "2020-12-13\n",
            "2020-12-20\n",
            "2020-12-27\n"
          ]
        }
      ],
      "source": [
        "# write your answer here\n",
        "from datetime import date, timedelta\n",
        "\n",
        "def all_sundays(year):\n",
        "    dte = date(year, 1, 1)     \n",
        "    dte += timedelta(days = 6 - dte.weekday())  \n",
        "    while dte.year == year:\n",
        "        yield dte\n",
        "        dte += timedelta(days = 7)\n",
        "\n",
        "sundays = all_sundays(2020)\n",
        "\n",
        "for sunday in sundays:\n",
        "    print(sunday)"
      ]
    },
    {
      "cell_type": "code",
      "execution_count": null,
      "metadata": {
        "id": "N1SYY4jAlZdp"
      },
      "outputs": [],
      "source": []
    }
  ],
  "metadata": {
    "colab": {
      "collapsed_sections": [],
      "provenance": [],
      "include_colab_link": true
    },
    "kernelspec": {
      "display_name": "Python 3 (ipykernel)",
      "language": "python",
      "name": "python3"
    },
    "language_info": {
      "codemirror_mode": {
        "name": "ipython",
        "version": 3
      },
      "file_extension": ".py",
      "mimetype": "text/x-python",
      "name": "python",
      "nbconvert_exporter": "python",
      "pygments_lexer": "ipython3",
      "version": "3.9.12"
    }
  },
  "nbformat": 4,
  "nbformat_minor": 0
}