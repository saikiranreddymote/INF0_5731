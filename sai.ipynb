{
  "cells": [
    {
      "cell_type": "markdown",
      "metadata": {
        "id": "view-in-github",
        "colab_type": "text"
      },
      "source": [
        "<a href=\"https://colab.research.google.com/github/saikiranreddymote/INF0_5731/blob/main/sai.ipynb\" target=\"_parent\"><img src=\"https://colab.research.google.com/assets/colab-badge.svg\" alt=\"Open In Colab\"/></a>"
      ]
    },
    {
      "cell_type": "markdown",
      "metadata": {
        "id": "Ryk8D1Q4Wsrp"
      },
      "source": [
        "# **INFO5731 Assignment One**"
      ]
    },
    {
      "cell_type": "markdown",
      "metadata": {
        "id": "90_NR8c5XGWc"
      },
      "source": [
        "# Question 1\n",
        "\n",
        "(20 points). Write a Python program to generate 12 random numbers between 1 and 100. Sort the list of numbers in ascending order and print it out. Sort the list of numbers in descending order and print it out. Calculate the average for the group and print it out."
      ]
    },
    {
      "cell_type": "code",
      "execution_count": null,
      "metadata": {
        "id": "5QX6bJjGWXY9",
        "outputId": "b3b67d3c-1fce-4f23-c99f-576567bb2b3b"
      },
      "outputs": [
        {
          "name": "stdout",
          "output_type": "stream",
          "text": [
            "[55, 92, 79, 34, 30, 69, 95, 41, 15, 43, 21, 90]\n",
            "[15, 21, 30, 34, 41, 43, 55, 69, 79, 90, 92, 95]\n",
            "[95, 92, 90, 79, 69, 55, 43, 41, 34, 30, 21, 15]\n",
            "55.333333333333336\n"
          ]
        }
      ],
      "source": [
        "# Your code here\n",
        "import random\n",
        "\n",
        "mylist = []\n",
        "\n",
        "for i in range(0,12):\n",
        "    x = random.randint(2,99)\n",
        "    mylist.append(x)\n",
        "\n",
        "print(mylist)\n",
        "\n",
        "mylist.sort()\n",
        "\n",
        "print(mylist)\n",
        "\n",
        "mylist.sort(reverse=True)\n",
        "\n",
        "print(mylist)\n",
        "\n",
        "r = sum(mylist)/(len(mylist))\n",
        "\n",
        "print(r)\n",
        "\n"
      ]
    },
    {
      "cell_type": "markdown",
      "metadata": {
        "id": "1F_PZdH9Sh49"
      },
      "source": [
        "# Question 2\n",
        "(25 points). Write a program that will do the following string formatting tasks:\n",
        "\n",
        "(1) Ask the user to enter two sentences.\n",
        "\n",
        "(2) Make each sentence into a list. Each element in the list should correspond to a word in the sentence. For example, if the sentence is \"Alas! Am I alive? This is my first python program\", the program should print out ['Alas, '!', 'Am', 'I', 'alive, '?', 'This', 'is', 'my', 'first', 'python', 'program'].\n",
        "\n",
        "(3) Compare the two sentences. Print out a list of words that occur in both sentences.\n",
        "\n",
        "(4) Remove any punctuation from the sentence and print it back out. It should remove at least the following characters, but it can remove more: period(“.”), comma (“,”), semicolon (“;”), and colon (“:”)\n",
        "\n",
        "(5) Count the number of vowels in the sentences. Print out each vowel and the number of times it appears in the sentences, such as: a:2, e:1, i:0, etc"
      ]
    },
    {
      "cell_type": "code",
      "execution_count": null,
      "metadata": {
        "id": "Y0oOSlsOS0cq",
        "outputId": "325bf100-01ab-44d3-dc0a-69e4ecf90c5e"
      },
      "outputs": [
        {
          "name": "stdout",
          "output_type": "stream",
          "text": [
            "enter sentence1\"Alas! Am I alive? This is my first python program\"\n",
            "enter sentence2\"Alas! Am I alive? This is my first python program\"\n",
            "['\"Alas!', 'Am', 'I', 'alive?', 'This', 'is', 'my', 'first', 'python', 'program\"']\n",
            "['\"Alas!', 'Am', 'I', 'alive?', 'This', 'is', 'my', 'first', 'python', 'program\"']\n",
            "['\"Alas!', 'Am', 'I', 'alive?', 'This', 'is', 'my', 'first', 'python', 'program\"']\n",
            "Alas Am I alive This is my first python program\n",
            "{'A': 4, 'a': 6, 'I': 2, 'i': 8, 'e': 2, 'o': 4}\n"
          ]
        }
      ],
      "source": [
        "# Your code here\n",
        "str1 = str(input(\"enter sentence1\"))\n",
        "str2= str(input(\"enter sentence2\"))\n",
        "split_str1= str1.split()\n",
        "split_str2= str2.split()\n",
        "print(split_str1)\n",
        "print(split_str2)\n",
        "\n",
        "comm_list =[]\n",
        "\n",
        "for i in split_str1:\n",
        "  for j in split_str2:\n",
        "    if( i == j):\n",
        "        comm_list.append(i)\n",
        "print(comm_list)\n",
        "\n",
        "punc = '''!()-[]{};:'\"\\,<>./?@#$%^&*_~'''\n",
        " \n",
        "# Removing punctuations in string\n",
        "# Using loop + punctuation string\n",
        "for ele in str1:\n",
        "    if ele in punc:\n",
        "        str1 = str1.replace(ele, \"\")\n",
        "        \n",
        "print(str1)\n",
        "\n",
        "vow= 'aeiouAEIOU'\n",
        "count={}\n",
        "\n",
        "for ele in str1:\n",
        "    if ele in vow:\n",
        "        if ele in count:\n",
        "            count[ele]+=1\n",
        "        else:\n",
        "            count[ele] =1\n",
        "            \n",
        "for ele in str2:\n",
        "    if ele in vow:\n",
        "        if ele in count:\n",
        "            count[ele]+=1\n",
        "        else:\n",
        "            count[ele] =1\n",
        "\n",
        "print(count)\n",
        "\n",
        "\n",
        "\n",
        "\n",
        "\n",
        "\n",
        " \n"
      ]
    },
    {
      "cell_type": "markdown",
      "metadata": {
        "id": "CmFoI4jDS9nx"
      },
      "source": [
        "# Question 3 \n",
        "\n",
        "(15 points). The formula that describes the volume V of a sphere with radius r is the following:\n",
        "\n",
        "$ V=\\frac{4}{3}\\ast\\ \\pi\\ast\\ r^3 $\n",
        "\n",
        "Write a program to calculate the value of V when r is in the range of 1–10. Output the result in the following format:\n",
        "\n",
        "\tr\tV\n",
        "\t1\t…\n",
        "\t2\t…\n",
        "\t3\t…\n"
      ]
    },
    {
      "cell_type": "code",
      "execution_count": null,
      "metadata": {
        "id": "pEyqeioAT95b",
        "outputId": "35acc2b4-22bc-4a59-88a9-f6ed2cf42a81"
      },
      "outputs": [
        {
          "name": "stdout",
          "output_type": "stream",
          "text": [
            "r v\n",
            "1 4.1887902047863905\n",
            "2 33.510321638291124\n",
            "3 113.09733552923254\n",
            "4 268.082573106329\n",
            "5 523.5987755982989\n",
            "6 904.7786842338603\n",
            "7 1436.7550402417319\n",
            "8 2144.660584850632\n",
            "9 3053.6280592892786\n",
            "10 4188.790204786391\n"
          ]
        }
      ],
      "source": [
        "# Your code here\n",
        "import math\n",
        "print(\"r\",\"v\")\n",
        "for r in range(1,11):\n",
        " v = 4/3 * (math.pi) * r **3\n",
        " print(r,v)\n"
      ]
    },
    {
      "cell_type": "markdown",
      "metadata": {
        "id": "z3tBE7E-Xn5X"
      },
      "source": [
        "# Question 4\n",
        "\n",
        "(40 points). In the field of Data Science, data is often formatted as a comma-delimited (CSV) file, where each line in a file corresponds to a field's value. Refer to Chapter 9 (p. 106) for more information on comma-delimited files. To answer this question, you will need to download the file [Assignment1_denton_housing.csv](https://raw.githubusercontent.com/unt-iialab/info5731-spring2022/main/assignments/Assignment1_denton_housing.csv) included with this assignment. The file [Assignment1_denton_housing.csv](https://raw.githubusercontent.com/unt-iialab/info5731-spring2022/main/assignments/Assignment1_denton_housing.csv) contains statistics about housing in the city of Denton from 2008 to 2014. Write a program to implement the following questions.\n",
        "\n",
        "(1) (10 pts) Calculate the difference in the number of Occupied Housing Units from year to year and print it. The difference must be calculated for the consecutive years such as 2008-2009, 2009-2010 etc. Finally, print the values in the ascending order.\n",
        "\n",
        "(2) (10 pts) For all the years, calculate the percentage of housing units which are vacant an occupied. Print the results in the following format:\n",
        "\n",
        "Year Vacant Housing Units Occupied Housing Units\n",
        "\n",
        "    2008  30%   70%                          \n",
        "\t2009 ----- -----\n",
        "\t2010 ----- -----\n",
        "    2011 ----- -----\n",
        "\t2012 ----- -----\n",
        "    2013 ----- -----\n",
        "\t2014 ----- -----\n",
        "  \n",
        "  \n",
        "\n",
        "(3) (10 pts) Calculate and print the valued and years in which the highest number of housing units were vacant and occupied. Print the results in the following format:  \n",
        "\n",
        "                              Year\tValue\n",
        "\tVacant Housing Units\t  -----   -----\n",
        "\tOccupied Housing Units\t-----   -----\n",
        "\n",
        "(4) (10 pts) Calculate the harmonic mean of the total housing units and print it out. You can find the information about harmonic mean here: https://ncalculators.com/statistics/harmonic-mean-calculator.htm"
      ]
    },
    {
      "cell_type": "code",
      "execution_count": null,
      "metadata": {
        "id": "lqGYuHBhcsRH",
        "outputId": "6823d5f3-931c-4e15-f82c-b8f4c5a78319"
      },
      "outputs": [
        {
          "data": {
            "text/plain": [
              "[795, -5091, 303, -1404, -1565, -2622]"
            ]
          },
          "execution_count": 5,
          "metadata": {},
          "output_type": "execute_result"
        }
      ],
      "source": [
        "# Your code here\n",
        "#1\n",
        "import statistics\n",
        "import pandas as pd\n",
        "data = pd.read_csv('Assignment1_denton_housing.csv')\n",
        "\n",
        "#Calculate the difference in the number of Occupied Housing Units from year to year andprint it.\n",
        "#The difference must be calculated for the consecutive years such as 2008-2009, 2009-2010\n",
        "\n",
        "occ_houses = data[data['title_field'] == 'Occupied Housing Units'].sort_values(by=['year'])\n",
        "\n",
        "# the difference in the number of Occupied Housing Units from year to year\n",
        "\n",
        "diff_house = [list(occ_houses['value'].values)[loop] - list(occ_houses['value'].values)[loop+1]\\\n",
        "for loop in range(len(occ_houses)-1)]\n",
        "diff_house"
      ]
    },
    {
      "cell_type": "code",
      "execution_count": null,
      "metadata": {
        "id": "cEb412wuj8Kp",
        "outputId": "ac94781c-9ab6-4d56-db06-0085efa4af6e"
      },
      "outputs": [
        {
          "data": {
            "text/html": [
              "<div>\n",
              "<style scoped>\n",
              "    .dataframe tbody tr th:only-of-type {\n",
              "        vertical-align: middle;\n",
              "    }\n",
              "\n",
              "    .dataframe tbody tr th {\n",
              "        vertical-align: top;\n",
              "    }\n",
              "\n",
              "    .dataframe thead th {\n",
              "        text-align: right;\n",
              "    }\n",
              "</style>\n",
              "<table border=\"1\" class=\"dataframe\">\n",
              "  <thead>\n",
              "    <tr style=\"text-align: right;\">\n",
              "      <th></th>\n",
              "      <th>year</th>\n",
              "      <th>Vacant House</th>\n",
              "      <th>Occupied House</th>\n",
              "      <th>Percent of Vacant House</th>\n",
              "      <th>Percent of Occupied House</th>\n",
              "    </tr>\n",
              "  </thead>\n",
              "  <tbody>\n",
              "    <tr>\n",
              "      <th>0</th>\n",
              "      <td>2008</td>\n",
              "      <td>4483</td>\n",
              "      <td>36711</td>\n",
              "      <td>10.882653</td>\n",
              "      <td>89.117347</td>\n",
              "    </tr>\n",
              "    <tr>\n",
              "      <th>1</th>\n",
              "      <td>2009</td>\n",
              "      <td>3583</td>\n",
              "      <td>35916</td>\n",
              "      <td>9.071116</td>\n",
              "      <td>90.928884</td>\n",
              "    </tr>\n",
              "    <tr>\n",
              "      <th>2</th>\n",
              "      <td>2010</td>\n",
              "      <td>3635</td>\n",
              "      <td>41007</td>\n",
              "      <td>8.142556</td>\n",
              "      <td>91.857444</td>\n",
              "    </tr>\n",
              "    <tr>\n",
              "      <th>3</th>\n",
              "      <td>2011</td>\n",
              "      <td>4213</td>\n",
              "      <td>40704</td>\n",
              "      <td>9.379522</td>\n",
              "      <td>90.620478</td>\n",
              "    </tr>\n",
              "    <tr>\n",
              "      <th>4</th>\n",
              "      <td>2012</td>\n",
              "      <td>3013</td>\n",
              "      <td>42108</td>\n",
              "      <td>6.677600</td>\n",
              "      <td>93.322400</td>\n",
              "    </tr>\n",
              "    <tr>\n",
              "      <th>5</th>\n",
              "      <td>2013</td>\n",
              "      <td>4215</td>\n",
              "      <td>43673</td>\n",
              "      <td>8.801788</td>\n",
              "      <td>91.198212</td>\n",
              "    </tr>\n",
              "    <tr>\n",
              "      <th>6</th>\n",
              "      <td>2014</td>\n",
              "      <td>2814</td>\n",
              "      <td>46295</td>\n",
              "      <td>5.730111</td>\n",
              "      <td>94.269889</td>\n",
              "    </tr>\n",
              "  </tbody>\n",
              "</table>\n",
              "</div>"
            ],
            "text/plain": [
              "   year  Vacant House  Occupied House  Percent of Vacant House  \\\n",
              "0  2008          4483           36711                10.882653   \n",
              "1  2009          3583           35916                 9.071116   \n",
              "2  2010          3635           41007                 8.142556   \n",
              "3  2011          4213           40704                 9.379522   \n",
              "4  2012          3013           42108                 6.677600   \n",
              "5  2013          4215           43673                 8.801788   \n",
              "6  2014          2814           46295                 5.730111   \n",
              "\n",
              "   Percent of Occupied House  \n",
              "0                  89.117347  \n",
              "1                  90.928884  \n",
              "2                  91.857444  \n",
              "3                  90.620478  \n",
              "4                  93.322400  \n",
              "5                  91.198212  \n",
              "6                  94.269889  "
            ]
          },
          "execution_count": 6,
          "metadata": {},
          "output_type": "execute_result"
        }
      ],
      "source": [
        "#2\n",
        "#2\n",
        "# calculate the percentage of housing units which are vacant and occupied.\n",
        "\n",
        "unique_years = sorted(list(data['year'].unique())) # legging list of unique year number\n",
        "\n",
        "# number of ocupied houses\n",
        "\n",
        "occ_houses = data[data['title_field'] == 'Occupied Housing Units'].sort_values(by=[\n",
        "'year'])\n",
        "\n",
        "# number of vacant houses\n",
        "\n",
        "vacant_houses = data[data['title_field'] == 'Vacant Housing Units'].sort_values(by=['year'])\n",
        "new_house_df = pd.DataFrame()\n",
        "new_house_df['year'] = unique_years\n",
        "new_house_df['Vacant House'] = vacant_houses['value'].values\n",
        "new_house_df['Occupied House'] = occ_houses['value'].values\n",
        "new_house_df['Percent of Vacant House'] = [(new_house_df['Vacant House'][loop] * 100) /\n",
        "\\\n",
        "(new_house_df['Vacant House'][loop] + new_house_df['Occupied House']\n",
        "[loop])\\\n",
        "\n",
        "for loop in range(len(new_house_df))]\n",
        "new_house_df['Percent of Occupied House'] = [(new_house_df['Occupied House'][loop] * 100) /\\\n",
        "(new_house_df['Vacant House'][loop] + new_house_df['Occupied House']\n",
        "[loop])\\\n",
        "\n",
        "for loop in range(len(new_house_df))]\n",
        "new_house_df"
      ]
    },
    {
      "cell_type": "code",
      "execution_count": null,
      "metadata": {
        "id": "J8WuGc23j8Kp",
        "outputId": "81bf1bdc-0ae2-43f3-b881-1d7167056ab2"
      },
      "outputs": [
        {
          "data": {
            "text/html": [
              "<div>\n",
              "<style scoped>\n",
              "    .dataframe tbody tr th:only-of-type {\n",
              "        vertical-align: middle;\n",
              "    }\n",
              "\n",
              "    .dataframe tbody tr th {\n",
              "        vertical-align: top;\n",
              "    }\n",
              "\n",
              "    .dataframe thead th {\n",
              "        text-align: right;\n",
              "    }\n",
              "</style>\n",
              "<table border=\"1\" class=\"dataframe\">\n",
              "  <thead>\n",
              "    <tr style=\"text-align: right;\">\n",
              "      <th></th>\n",
              "      <th>year</th>\n",
              "      <th>title_field</th>\n",
              "      <th>value</th>\n",
              "    </tr>\n",
              "  </thead>\n",
              "  <tbody>\n",
              "    <tr>\n",
              "      <th>2</th>\n",
              "      <td>2014</td>\n",
              "      <td>Occupied Housing Units</td>\n",
              "      <td>46295</td>\n",
              "    </tr>\n",
              "  </tbody>\n",
              "</table>\n",
              "</div>"
            ],
            "text/plain": [
              "   year             title_field  value\n",
              "2  2014  Occupied Housing Units  46295"
            ]
          },
          "execution_count": 9,
          "metadata": {},
          "output_type": "execute_result"
        }
      ],
      "source": [
        "#3\n",
        "\n",
        "max_vacant_houses = max(data[data['title_field'] == 'Vacant Housing Units'].value)\n",
        "vacant_houses = vacant_houses[vacant_houses['value'] == max_vacant_houses]\n",
        "vacant_houses\n",
        "# the highest number of Occupied housing units\n",
        "max_occuped_houses = max(data[data['title_field'] == 'Occupied Housing Units'].value)\n",
        "occ_houses = occ_houses[occ_houses['value'] == max_occuped_houses]\n",
        "occ_houses"
      ]
    },
    {
      "cell_type": "code",
      "execution_count": null,
      "metadata": {
        "id": "FyFhMt9Cj8Kq",
        "outputId": "c71aa6e0-2a6e-4682-c692-93c8c1e94282"
      },
      "outputs": [
        {
          "name": "stdout",
          "output_type": "stream",
          "text": [
            "44398.28543969185\n"
          ]
        }
      ],
      "source": [
        "#4\n",
        "# the harmonic mean .\n",
        "\n",
        "print(statistics.harmonic_mean(list(data[data['title_field'] == 'Total Housing Units'].\n",
        "value)))"
      ]
    },
    {
      "cell_type": "code",
      "execution_count": null,
      "metadata": {
        "id": "V9_J2oOsj8Kq"
      },
      "outputs": [],
      "source": []
    }
  ],
  "metadata": {
    "colab": {
      "collapsed_sections": [],
      "provenance": [],
      "include_colab_link": true
    },
    "kernelspec": {
      "display_name": "Python 3",
      "language": "python",
      "name": "python3"
    },
    "language_info": {
      "codemirror_mode": {
        "name": "ipython",
        "version": 3
      },
      "file_extension": ".py",
      "mimetype": "text/x-python",
      "name": "python",
      "nbconvert_exporter": "python",
      "pygments_lexer": "ipython3",
      "version": "3.7.6"
    }
  },
  "nbformat": 4,
  "nbformat_minor": 0
}